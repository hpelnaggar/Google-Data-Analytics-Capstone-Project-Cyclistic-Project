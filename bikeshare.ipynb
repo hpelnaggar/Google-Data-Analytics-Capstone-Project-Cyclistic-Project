{
 "cells": [
  {
   "cell_type": "markdown",
   "id": "d3f53f60",
   "metadata": {},
   "source": [
    "# Google Data Analytics Capstone Project\n",
    "### By: Mohamed G. El-Naggar | Dated: 31-12-2022"
   ]
  },
  {
   "cell_type": "markdown",
   "id": "d111a0d4",
   "metadata": {},
   "source": [
    "## Breif Background on the project:\n",
    "As a junior data analyst working in the marketing analyst team at Cyclistic(a bike-share company in Chicago). The director of marketing believes the company’s future success depends on maximizing the number of annual memberships. Therefore, your team wants to understand how casual riders and annual members use Cyclistic bikes differently. From these insights, your team will design a new marketing strategy to convert casual riders into annual members.\n",
    "\n",
    "## Stakeholders:\n",
    "* Lily Moreno: The director of marketing. Moreno is responsible for the development of campaigns and initiatives to promote the bike-share program.\n",
    "* Cyclistic marketing analytics team: A team of data analysts who are responsible for collecting, analysing, and reporting data that helps guide Cyclistic marketing strategy.\n",
    "* Cyclistic executive team: The executive team will decide whether to approve the recommended marketing program.\n",
    "\n",
    "## Business Task:\n",
    "1. Determine the patterns associated with service offered by Cyclistic.\n",
    "2. Analyse the target audience and clients for our new campagin.\n",
    "3. Enhance current offered services.\n",
    "\n",
    "## Datasource:\n",
    "The data used was offered under license of this link [link](https://ride.divvybikes.com/data-license-agreement). \n",
    "We used the last 11 months data in order to create the patterns associated with our services.\n",
    "### Data:\n",
    "The data is sorted under same order for each file and contains the same 12 columns:\n",
    "1. ride_id (a specific id for each ride).\n",
    "2. rideable_type (type of bike used).  \n",
    "3. started_at (time/date of starting journey).        \n",
    "4. ended_at (time/date of ending journey).             \n",
    "5. start_station_name (start station name).\n",
    "6. start_station_id (start station internal id).\n",
    "7. end_station_name (end station name).     \n",
    "8. end_station_id (end station internal id).      \n",
    "9. start_lat (start location latitude).         \n",
    "10. start_lng (start location longitude).             \n",
    "11. end_lat (end location latitude).               \n",
    "12. end_lng (end location longitude).               \n",
    "13. member_casual (member type).\n",
    "\n",
    "From having the primary insight on the data provided over spreadsheet program, it seems that data is reliable and will give an output that will be helpful for decision making. But, this will be reached after cleaning process into a sortable and understandable way in order to get the new inputs that will help in our analysis."
   ]
  },
  {
   "cell_type": "markdown",
   "id": "c4213e2f",
   "metadata": {},
   "source": [
    "## Processing the data:"
   ]
  },
  {
   "cell_type": "markdown",
   "id": "1ace66b6",
   "metadata": {},
   "source": [
    "We'll use Python to do our manipulation and analysis.\n",
    "\n",
    "First of all, well import the libraries we'll need originally in our analysis."
   ]
  },
  {
   "cell_type": "code",
   "execution_count": 6,
   "id": "27fd3c92",
   "metadata": {},
   "outputs": [],
   "source": [
    "import numpy as np\n",
    "import pandas as pd\n",
    "import matplotlib.pyplot as plt\n",
    "import seaborn as sns\n",
    "import os"
   ]
  },
  {
   "cell_type": "markdown",
   "id": "34e97768",
   "metadata": {},
   "source": [
    "Importing the last 11 months in dataframes:"
   ]
  },
  {
   "cell_type": "code",
   "execution_count": 7,
   "id": "cad84370",
   "metadata": {},
   "outputs": [],
   "source": [
    "nov=pd.read_csv('202211-divvy-tripdata.csv')\n",
    "octb=pd.read_csv('202210-divvy-tripdata.csv')\n",
    "sep=pd.read_csv('202209-divvy-tripdata.csv')\n",
    "aug=pd.read_csv('202208-divvy-tripdata.csv')\n",
    "jul=pd.read_csv('202207-divvy-tripdata.csv')\n",
    "jun=pd.read_csv('202206-divvy-tripdata.csv')\n",
    "may=pd.read_csv('202205-divvy-tripdata.csv')\n",
    "apr=pd.read_csv('202204-divvy-tripdata.csv')\n",
    "mar=pd.read_csv('202203-divvy-tripdata.csv')\n",
    "feb=pd.read_csv('202202-divvy-tripdata.csv')\n",
    "jan=pd.read_csv('202201-divvy-tripdata.csv')"
   ]
  },
  {
   "cell_type": "markdown",
   "id": "243f6084",
   "metadata": {},
   "source": [
    "Merging the dataframes of the last 11 months in one dataframe to apply all the cleaning steps:"
   ]
  },
  {
   "cell_type": "code",
   "execution_count": 8,
   "id": "7d8e3ec1",
   "metadata": {},
   "outputs": [
    {
     "data": {
      "text/html": [
       "<div>\n",
       "<style scoped>\n",
       "    .dataframe tbody tr th:only-of-type {\n",
       "        vertical-align: middle;\n",
       "    }\n",
       "\n",
       "    .dataframe tbody tr th {\n",
       "        vertical-align: top;\n",
       "    }\n",
       "\n",
       "    .dataframe thead th {\n",
       "        text-align: right;\n",
       "    }\n",
       "</style>\n",
       "<table border=\"1\" class=\"dataframe\">\n",
       "  <thead>\n",
       "    <tr style=\"text-align: right;\">\n",
       "      <th></th>\n",
       "      <th>ride_id</th>\n",
       "      <th>rideable_type</th>\n",
       "      <th>started_at</th>\n",
       "      <th>ended_at</th>\n",
       "      <th>start_station_name</th>\n",
       "      <th>start_station_id</th>\n",
       "      <th>end_station_name</th>\n",
       "      <th>end_station_id</th>\n",
       "      <th>start_lat</th>\n",
       "      <th>start_lng</th>\n",
       "      <th>end_lat</th>\n",
       "      <th>end_lng</th>\n",
       "      <th>member_casual</th>\n",
       "    </tr>\n",
       "  </thead>\n",
       "  <tbody>\n",
       "    <tr>\n",
       "      <th>0</th>\n",
       "      <td>C2F7DD78E82EC875</td>\n",
       "      <td>electric_bike</td>\n",
       "      <td>2022-01-13 11:59:47</td>\n",
       "      <td>2022-01-13 12:02:44</td>\n",
       "      <td>Glenwood Ave &amp; Touhy Ave</td>\n",
       "      <td>525</td>\n",
       "      <td>Clark St &amp; Touhy Ave</td>\n",
       "      <td>RP-007</td>\n",
       "      <td>42.012800</td>\n",
       "      <td>-87.665906</td>\n",
       "      <td>42.012560</td>\n",
       "      <td>-87.674367</td>\n",
       "      <td>casual</td>\n",
       "    </tr>\n",
       "    <tr>\n",
       "      <th>1</th>\n",
       "      <td>A6CF8980A652D272</td>\n",
       "      <td>electric_bike</td>\n",
       "      <td>2022-01-10 08:41:56</td>\n",
       "      <td>2022-01-10 08:46:17</td>\n",
       "      <td>Glenwood Ave &amp; Touhy Ave</td>\n",
       "      <td>525</td>\n",
       "      <td>Clark St &amp; Touhy Ave</td>\n",
       "      <td>RP-007</td>\n",
       "      <td>42.012763</td>\n",
       "      <td>-87.665967</td>\n",
       "      <td>42.012560</td>\n",
       "      <td>-87.674367</td>\n",
       "      <td>casual</td>\n",
       "    </tr>\n",
       "    <tr>\n",
       "      <th>2</th>\n",
       "      <td>BD0F91DFF741C66D</td>\n",
       "      <td>classic_bike</td>\n",
       "      <td>2022-01-25 04:53:40</td>\n",
       "      <td>2022-01-25 04:58:01</td>\n",
       "      <td>Sheffield Ave &amp; Fullerton Ave</td>\n",
       "      <td>TA1306000016</td>\n",
       "      <td>Greenview Ave &amp; Fullerton Ave</td>\n",
       "      <td>TA1307000001</td>\n",
       "      <td>41.925602</td>\n",
       "      <td>-87.653708</td>\n",
       "      <td>41.925330</td>\n",
       "      <td>-87.665800</td>\n",
       "      <td>member</td>\n",
       "    </tr>\n",
       "    <tr>\n",
       "      <th>3</th>\n",
       "      <td>CBB80ED419105406</td>\n",
       "      <td>classic_bike</td>\n",
       "      <td>2022-01-04 00:18:04</td>\n",
       "      <td>2022-01-04 00:33:00</td>\n",
       "      <td>Clark St &amp; Bryn Mawr Ave</td>\n",
       "      <td>KA1504000151</td>\n",
       "      <td>Paulina St &amp; Montrose Ave</td>\n",
       "      <td>TA1309000021</td>\n",
       "      <td>41.983593</td>\n",
       "      <td>-87.669154</td>\n",
       "      <td>41.961507</td>\n",
       "      <td>-87.671387</td>\n",
       "      <td>casual</td>\n",
       "    </tr>\n",
       "    <tr>\n",
       "      <th>4</th>\n",
       "      <td>DDC963BFDDA51EEA</td>\n",
       "      <td>classic_bike</td>\n",
       "      <td>2022-01-20 01:31:10</td>\n",
       "      <td>2022-01-20 01:37:12</td>\n",
       "      <td>Michigan Ave &amp; Jackson Blvd</td>\n",
       "      <td>TA1309000002</td>\n",
       "      <td>State St &amp; Randolph St</td>\n",
       "      <td>TA1305000029</td>\n",
       "      <td>41.877850</td>\n",
       "      <td>-87.624080</td>\n",
       "      <td>41.884621</td>\n",
       "      <td>-87.627834</td>\n",
       "      <td>member</td>\n",
       "    </tr>\n",
       "  </tbody>\n",
       "</table>\n",
       "</div>"
      ],
      "text/plain": [
       "            ride_id  rideable_type           started_at             ended_at  \\\n",
       "0  C2F7DD78E82EC875  electric_bike  2022-01-13 11:59:47  2022-01-13 12:02:44   \n",
       "1  A6CF8980A652D272  electric_bike  2022-01-10 08:41:56  2022-01-10 08:46:17   \n",
       "2  BD0F91DFF741C66D   classic_bike  2022-01-25 04:53:40  2022-01-25 04:58:01   \n",
       "3  CBB80ED419105406   classic_bike  2022-01-04 00:18:04  2022-01-04 00:33:00   \n",
       "4  DDC963BFDDA51EEA   classic_bike  2022-01-20 01:31:10  2022-01-20 01:37:12   \n",
       "\n",
       "              start_station_name start_station_id  \\\n",
       "0       Glenwood Ave & Touhy Ave              525   \n",
       "1       Glenwood Ave & Touhy Ave              525   \n",
       "2  Sheffield Ave & Fullerton Ave     TA1306000016   \n",
       "3       Clark St & Bryn Mawr Ave     KA1504000151   \n",
       "4    Michigan Ave & Jackson Blvd     TA1309000002   \n",
       "\n",
       "                end_station_name end_station_id  start_lat  start_lng  \\\n",
       "0           Clark St & Touhy Ave         RP-007  42.012800 -87.665906   \n",
       "1           Clark St & Touhy Ave         RP-007  42.012763 -87.665967   \n",
       "2  Greenview Ave & Fullerton Ave   TA1307000001  41.925602 -87.653708   \n",
       "3      Paulina St & Montrose Ave   TA1309000021  41.983593 -87.669154   \n",
       "4         State St & Randolph St   TA1305000029  41.877850 -87.624080   \n",
       "\n",
       "     end_lat    end_lng member_casual  \n",
       "0  42.012560 -87.674367        casual  \n",
       "1  42.012560 -87.674367        casual  \n",
       "2  41.925330 -87.665800        member  \n",
       "3  41.961507 -87.671387        casual  \n",
       "4  41.884621 -87.627834        member  "
      ]
     },
     "execution_count": 8,
     "metadata": {},
     "output_type": "execute_result"
    }
   ],
   "source": [
    "merger=pd.concat([jan,feb,mar,apr,may,jun,jul,aug,sep,octb,nov])\n",
    "merger.head()"
   ]
  },
  {
   "cell_type": "code",
   "execution_count": 9,
   "id": "b185ebb7",
   "metadata": {},
   "outputs": [
    {
     "name": "stdout",
     "output_type": "stream",
     "text": [
      "<class 'pandas.core.frame.DataFrame'>\n",
      "Int64Index: 5485911 entries, 0 to 337734\n",
      "Data columns (total 13 columns):\n",
      " #   Column              Dtype  \n",
      "---  ------              -----  \n",
      " 0   ride_id             object \n",
      " 1   rideable_type       object \n",
      " 2   started_at          object \n",
      " 3   ended_at            object \n",
      " 4   start_station_name  object \n",
      " 5   start_station_id    object \n",
      " 6   end_station_name    object \n",
      " 7   end_station_id      object \n",
      " 8   start_lat           float64\n",
      " 9   start_lng           float64\n",
      " 10  end_lat             float64\n",
      " 11  end_lng             float64\n",
      " 12  member_casual       object \n",
      "dtypes: float64(4), object(9)\n",
      "memory usage: 586.0+ MB\n"
     ]
    }
   ],
   "source": [
    "merger.info()"
   ]
  },
  {
   "cell_type": "markdown",
   "id": "36c7d50a",
   "metadata": {},
   "source": [
    "Determining the unique values in our dataframe:"
   ]
  },
  {
   "cell_type": "code",
   "execution_count": 10,
   "id": "b7f3242b",
   "metadata": {},
   "outputs": [
    {
     "data": {
      "text/plain": [
       "ride_id               5485911\n",
       "rideable_type               3\n",
       "started_at            4575538\n",
       "ended_at              4588116\n",
       "start_station_name       1661\n",
       "start_station_id         1311\n",
       "end_station_name         1680\n",
       "end_station_id           1316\n",
       "start_lat              648758\n",
       "start_lng              613005\n",
       "end_lat                  1588\n",
       "end_lng                  1572\n",
       "member_casual               2\n",
       "dtype: int64"
      ]
     },
     "execution_count": 10,
     "metadata": {},
     "output_type": "execute_result"
    }
   ],
   "source": [
    "merger.nunique()"
   ]
  },
  {
   "cell_type": "markdown",
   "id": "646d41da",
   "metadata": {},
   "source": [
    "Create date and time for both start and end time data we already have in our dateframe:"
   ]
  },
  {
   "cell_type": "code",
   "execution_count": 11,
   "id": "43aa9fe8",
   "metadata": {
    "scrolled": true
   },
   "outputs": [
    {
     "data": {
      "text/html": [
       "<div>\n",
       "<style scoped>\n",
       "    .dataframe tbody tr th:only-of-type {\n",
       "        vertical-align: middle;\n",
       "    }\n",
       "\n",
       "    .dataframe tbody tr th {\n",
       "        vertical-align: top;\n",
       "    }\n",
       "\n",
       "    .dataframe thead th {\n",
       "        text-align: right;\n",
       "    }\n",
       "</style>\n",
       "<table border=\"1\" class=\"dataframe\">\n",
       "  <thead>\n",
       "    <tr style=\"text-align: right;\">\n",
       "      <th></th>\n",
       "      <th>ride_id</th>\n",
       "      <th>rideable_type</th>\n",
       "      <th>started_at</th>\n",
       "      <th>ended_at</th>\n",
       "      <th>start_station_name</th>\n",
       "      <th>start_station_id</th>\n",
       "      <th>end_station_name</th>\n",
       "      <th>end_station_id</th>\n",
       "      <th>start_lat</th>\n",
       "      <th>start_lng</th>\n",
       "      <th>end_lat</th>\n",
       "      <th>end_lng</th>\n",
       "      <th>member_casual</th>\n",
       "      <th>startdate</th>\n",
       "      <th>starttime</th>\n",
       "      <th>enddate</th>\n",
       "      <th>endtime</th>\n",
       "    </tr>\n",
       "  </thead>\n",
       "  <tbody>\n",
       "    <tr>\n",
       "      <th>0</th>\n",
       "      <td>C2F7DD78E82EC875</td>\n",
       "      <td>electric_bike</td>\n",
       "      <td>2022-01-13 11:59:47</td>\n",
       "      <td>2022-01-13 12:02:44</td>\n",
       "      <td>Glenwood Ave &amp; Touhy Ave</td>\n",
       "      <td>525</td>\n",
       "      <td>Clark St &amp; Touhy Ave</td>\n",
       "      <td>RP-007</td>\n",
       "      <td>42.012800</td>\n",
       "      <td>-87.665906</td>\n",
       "      <td>42.012560</td>\n",
       "      <td>-87.674367</td>\n",
       "      <td>casual</td>\n",
       "      <td>2022-01-13</td>\n",
       "      <td>11:59:47</td>\n",
       "      <td>2022-01-13</td>\n",
       "      <td>12:02:44</td>\n",
       "    </tr>\n",
       "    <tr>\n",
       "      <th>1</th>\n",
       "      <td>A6CF8980A652D272</td>\n",
       "      <td>electric_bike</td>\n",
       "      <td>2022-01-10 08:41:56</td>\n",
       "      <td>2022-01-10 08:46:17</td>\n",
       "      <td>Glenwood Ave &amp; Touhy Ave</td>\n",
       "      <td>525</td>\n",
       "      <td>Clark St &amp; Touhy Ave</td>\n",
       "      <td>RP-007</td>\n",
       "      <td>42.012763</td>\n",
       "      <td>-87.665967</td>\n",
       "      <td>42.012560</td>\n",
       "      <td>-87.674367</td>\n",
       "      <td>casual</td>\n",
       "      <td>2022-01-10</td>\n",
       "      <td>08:41:56</td>\n",
       "      <td>2022-01-10</td>\n",
       "      <td>08:46:17</td>\n",
       "    </tr>\n",
       "    <tr>\n",
       "      <th>2</th>\n",
       "      <td>BD0F91DFF741C66D</td>\n",
       "      <td>classic_bike</td>\n",
       "      <td>2022-01-25 04:53:40</td>\n",
       "      <td>2022-01-25 04:58:01</td>\n",
       "      <td>Sheffield Ave &amp; Fullerton Ave</td>\n",
       "      <td>TA1306000016</td>\n",
       "      <td>Greenview Ave &amp; Fullerton Ave</td>\n",
       "      <td>TA1307000001</td>\n",
       "      <td>41.925602</td>\n",
       "      <td>-87.653708</td>\n",
       "      <td>41.925330</td>\n",
       "      <td>-87.665800</td>\n",
       "      <td>member</td>\n",
       "      <td>2022-01-25</td>\n",
       "      <td>04:53:40</td>\n",
       "      <td>2022-01-25</td>\n",
       "      <td>04:58:01</td>\n",
       "    </tr>\n",
       "    <tr>\n",
       "      <th>3</th>\n",
       "      <td>CBB80ED419105406</td>\n",
       "      <td>classic_bike</td>\n",
       "      <td>2022-01-04 00:18:04</td>\n",
       "      <td>2022-01-04 00:33:00</td>\n",
       "      <td>Clark St &amp; Bryn Mawr Ave</td>\n",
       "      <td>KA1504000151</td>\n",
       "      <td>Paulina St &amp; Montrose Ave</td>\n",
       "      <td>TA1309000021</td>\n",
       "      <td>41.983593</td>\n",
       "      <td>-87.669154</td>\n",
       "      <td>41.961507</td>\n",
       "      <td>-87.671387</td>\n",
       "      <td>casual</td>\n",
       "      <td>2022-01-04</td>\n",
       "      <td>00:18:04</td>\n",
       "      <td>2022-01-04</td>\n",
       "      <td>00:33:00</td>\n",
       "    </tr>\n",
       "    <tr>\n",
       "      <th>4</th>\n",
       "      <td>DDC963BFDDA51EEA</td>\n",
       "      <td>classic_bike</td>\n",
       "      <td>2022-01-20 01:31:10</td>\n",
       "      <td>2022-01-20 01:37:12</td>\n",
       "      <td>Michigan Ave &amp; Jackson Blvd</td>\n",
       "      <td>TA1309000002</td>\n",
       "      <td>State St &amp; Randolph St</td>\n",
       "      <td>TA1305000029</td>\n",
       "      <td>41.877850</td>\n",
       "      <td>-87.624080</td>\n",
       "      <td>41.884621</td>\n",
       "      <td>-87.627834</td>\n",
       "      <td>member</td>\n",
       "      <td>2022-01-20</td>\n",
       "      <td>01:31:10</td>\n",
       "      <td>2022-01-20</td>\n",
       "      <td>01:37:12</td>\n",
       "    </tr>\n",
       "  </tbody>\n",
       "</table>\n",
       "</div>"
      ],
      "text/plain": [
       "            ride_id  rideable_type           started_at             ended_at  \\\n",
       "0  C2F7DD78E82EC875  electric_bike  2022-01-13 11:59:47  2022-01-13 12:02:44   \n",
       "1  A6CF8980A652D272  electric_bike  2022-01-10 08:41:56  2022-01-10 08:46:17   \n",
       "2  BD0F91DFF741C66D   classic_bike  2022-01-25 04:53:40  2022-01-25 04:58:01   \n",
       "3  CBB80ED419105406   classic_bike  2022-01-04 00:18:04  2022-01-04 00:33:00   \n",
       "4  DDC963BFDDA51EEA   classic_bike  2022-01-20 01:31:10  2022-01-20 01:37:12   \n",
       "\n",
       "              start_station_name start_station_id  \\\n",
       "0       Glenwood Ave & Touhy Ave              525   \n",
       "1       Glenwood Ave & Touhy Ave              525   \n",
       "2  Sheffield Ave & Fullerton Ave     TA1306000016   \n",
       "3       Clark St & Bryn Mawr Ave     KA1504000151   \n",
       "4    Michigan Ave & Jackson Blvd     TA1309000002   \n",
       "\n",
       "                end_station_name end_station_id  start_lat  start_lng  \\\n",
       "0           Clark St & Touhy Ave         RP-007  42.012800 -87.665906   \n",
       "1           Clark St & Touhy Ave         RP-007  42.012763 -87.665967   \n",
       "2  Greenview Ave & Fullerton Ave   TA1307000001  41.925602 -87.653708   \n",
       "3      Paulina St & Montrose Ave   TA1309000021  41.983593 -87.669154   \n",
       "4         State St & Randolph St   TA1305000029  41.877850 -87.624080   \n",
       "\n",
       "     end_lat    end_lng member_casual   startdate starttime     enddate  \\\n",
       "0  42.012560 -87.674367        casual  2022-01-13  11:59:47  2022-01-13   \n",
       "1  42.012560 -87.674367        casual  2022-01-10  08:41:56  2022-01-10   \n",
       "2  41.925330 -87.665800        member  2022-01-25  04:53:40  2022-01-25   \n",
       "3  41.961507 -87.671387        casual  2022-01-04  00:18:04  2022-01-04   \n",
       "4  41.884621 -87.627834        member  2022-01-20  01:31:10  2022-01-20   \n",
       "\n",
       "    endtime  \n",
       "0  12:02:44  \n",
       "1  08:46:17  \n",
       "2  04:58:01  \n",
       "3  00:33:00  \n",
       "4  01:37:12  "
      ]
     },
     "execution_count": 11,
     "metadata": {},
     "output_type": "execute_result"
    }
   ],
   "source": [
    "merger['startdate']=pd.to_datetime(merger['started_at']).dt.date\n",
    "merger['starttime']=pd.to_datetime(merger['started_at']).dt.time\n",
    "merger['enddate']=pd.to_datetime(merger['ended_at']).dt.date\n",
    "merger['endtime']=pd.to_datetime(merger['ended_at']).dt.time\n",
    "merger.head()"
   ]
  },
  {
   "cell_type": "code",
   "execution_count": 12,
   "id": "c0bead8b",
   "metadata": {},
   "outputs": [
    {
     "name": "stdout",
     "output_type": "stream",
     "text": [
      "<class 'pandas.core.frame.DataFrame'>\n",
      "Int64Index: 5485911 entries, 0 to 337734\n",
      "Data columns (total 17 columns):\n",
      " #   Column              Dtype  \n",
      "---  ------              -----  \n",
      " 0   ride_id             object \n",
      " 1   rideable_type       object \n",
      " 2   started_at          object \n",
      " 3   ended_at            object \n",
      " 4   start_station_name  object \n",
      " 5   start_station_id    object \n",
      " 6   end_station_name    object \n",
      " 7   end_station_id      object \n",
      " 8   start_lat           float64\n",
      " 9   start_lng           float64\n",
      " 10  end_lat             float64\n",
      " 11  end_lng             float64\n",
      " 12  member_casual       object \n",
      " 13  startdate           object \n",
      " 14  starttime           object \n",
      " 15  enddate             object \n",
      " 16  endtime             object \n",
      "dtypes: float64(4), object(13)\n",
      "memory usage: 753.4+ MB\n"
     ]
    }
   ],
   "source": [
    "merger.info()"
   ]
  },
  {
   "cell_type": "code",
   "execution_count": 13,
   "id": "7697c74a",
   "metadata": {},
   "outputs": [],
   "source": [
    "#Convert start and end dates to datetime class\n",
    "merger['startdate']=pd.to_datetime(merger['startdate'])\n",
    "merger['enddate']=pd.to_datetime(merger['enddate'])"
   ]
  },
  {
   "cell_type": "markdown",
   "id": "7ed4a536",
   "metadata": {},
   "source": [
    "Importing another Python library which appears to be useful to extract data from given start and end dates:"
   ]
  },
  {
   "cell_type": "code",
   "execution_count": 14,
   "id": "e2cece98",
   "metadata": {},
   "outputs": [],
   "source": [
    "import calendar\n",
    "from datetime import datetime"
   ]
  },
  {
   "cell_type": "code",
   "execution_count": 15,
   "id": "4f51659c",
   "metadata": {},
   "outputs": [],
   "source": [
    "#Create weekday correspondent to each start and end dates\n",
    "merger['startday']=merger[['startdate']].apply(lambda x: datetime.strftime(x['startdate'], '%A'), axis=1)\n",
    "merger['endday']=merger[['enddate']].apply(lambda x: datetime.strftime(x['enddate'], '%A'), axis=1)"
   ]
  },
  {
   "cell_type": "code",
   "execution_count": 16,
   "id": "cbc856ac",
   "metadata": {},
   "outputs": [
    {
     "data": {
      "text/html": [
       "<div>\n",
       "<style scoped>\n",
       "    .dataframe tbody tr th:only-of-type {\n",
       "        vertical-align: middle;\n",
       "    }\n",
       "\n",
       "    .dataframe tbody tr th {\n",
       "        vertical-align: top;\n",
       "    }\n",
       "\n",
       "    .dataframe thead th {\n",
       "        text-align: right;\n",
       "    }\n",
       "</style>\n",
       "<table border=\"1\" class=\"dataframe\">\n",
       "  <thead>\n",
       "    <tr style=\"text-align: right;\">\n",
       "      <th></th>\n",
       "      <th>ride_id</th>\n",
       "      <th>rideable_type</th>\n",
       "      <th>start_station_name</th>\n",
       "      <th>start_station_id</th>\n",
       "      <th>end_station_name</th>\n",
       "      <th>end_station_id</th>\n",
       "      <th>start_lat</th>\n",
       "      <th>start_lng</th>\n",
       "      <th>end_lat</th>\n",
       "      <th>end_lng</th>\n",
       "      <th>member_casual</th>\n",
       "      <th>startdate</th>\n",
       "      <th>starttime</th>\n",
       "      <th>enddate</th>\n",
       "      <th>endtime</th>\n",
       "      <th>startday</th>\n",
       "      <th>endday</th>\n",
       "    </tr>\n",
       "  </thead>\n",
       "  <tbody>\n",
       "    <tr>\n",
       "      <th>0</th>\n",
       "      <td>C2F7DD78E82EC875</td>\n",
       "      <td>electric_bike</td>\n",
       "      <td>Glenwood Ave &amp; Touhy Ave</td>\n",
       "      <td>525</td>\n",
       "      <td>Clark St &amp; Touhy Ave</td>\n",
       "      <td>RP-007</td>\n",
       "      <td>42.012800</td>\n",
       "      <td>-87.665906</td>\n",
       "      <td>42.012560</td>\n",
       "      <td>-87.674367</td>\n",
       "      <td>casual</td>\n",
       "      <td>2022-01-13</td>\n",
       "      <td>11:59:47</td>\n",
       "      <td>2022-01-13</td>\n",
       "      <td>12:02:44</td>\n",
       "      <td>Thursday</td>\n",
       "      <td>Thursday</td>\n",
       "    </tr>\n",
       "    <tr>\n",
       "      <th>1</th>\n",
       "      <td>A6CF8980A652D272</td>\n",
       "      <td>electric_bike</td>\n",
       "      <td>Glenwood Ave &amp; Touhy Ave</td>\n",
       "      <td>525</td>\n",
       "      <td>Clark St &amp; Touhy Ave</td>\n",
       "      <td>RP-007</td>\n",
       "      <td>42.012763</td>\n",
       "      <td>-87.665967</td>\n",
       "      <td>42.012560</td>\n",
       "      <td>-87.674367</td>\n",
       "      <td>casual</td>\n",
       "      <td>2022-01-10</td>\n",
       "      <td>08:41:56</td>\n",
       "      <td>2022-01-10</td>\n",
       "      <td>08:46:17</td>\n",
       "      <td>Monday</td>\n",
       "      <td>Monday</td>\n",
       "    </tr>\n",
       "    <tr>\n",
       "      <th>2</th>\n",
       "      <td>BD0F91DFF741C66D</td>\n",
       "      <td>classic_bike</td>\n",
       "      <td>Sheffield Ave &amp; Fullerton Ave</td>\n",
       "      <td>TA1306000016</td>\n",
       "      <td>Greenview Ave &amp; Fullerton Ave</td>\n",
       "      <td>TA1307000001</td>\n",
       "      <td>41.925602</td>\n",
       "      <td>-87.653708</td>\n",
       "      <td>41.925330</td>\n",
       "      <td>-87.665800</td>\n",
       "      <td>member</td>\n",
       "      <td>2022-01-25</td>\n",
       "      <td>04:53:40</td>\n",
       "      <td>2022-01-25</td>\n",
       "      <td>04:58:01</td>\n",
       "      <td>Tuesday</td>\n",
       "      <td>Tuesday</td>\n",
       "    </tr>\n",
       "    <tr>\n",
       "      <th>3</th>\n",
       "      <td>CBB80ED419105406</td>\n",
       "      <td>classic_bike</td>\n",
       "      <td>Clark St &amp; Bryn Mawr Ave</td>\n",
       "      <td>KA1504000151</td>\n",
       "      <td>Paulina St &amp; Montrose Ave</td>\n",
       "      <td>TA1309000021</td>\n",
       "      <td>41.983593</td>\n",
       "      <td>-87.669154</td>\n",
       "      <td>41.961507</td>\n",
       "      <td>-87.671387</td>\n",
       "      <td>casual</td>\n",
       "      <td>2022-01-04</td>\n",
       "      <td>00:18:04</td>\n",
       "      <td>2022-01-04</td>\n",
       "      <td>00:33:00</td>\n",
       "      <td>Tuesday</td>\n",
       "      <td>Tuesday</td>\n",
       "    </tr>\n",
       "    <tr>\n",
       "      <th>4</th>\n",
       "      <td>DDC963BFDDA51EEA</td>\n",
       "      <td>classic_bike</td>\n",
       "      <td>Michigan Ave &amp; Jackson Blvd</td>\n",
       "      <td>TA1309000002</td>\n",
       "      <td>State St &amp; Randolph St</td>\n",
       "      <td>TA1305000029</td>\n",
       "      <td>41.877850</td>\n",
       "      <td>-87.624080</td>\n",
       "      <td>41.884621</td>\n",
       "      <td>-87.627834</td>\n",
       "      <td>member</td>\n",
       "      <td>2022-01-20</td>\n",
       "      <td>01:31:10</td>\n",
       "      <td>2022-01-20</td>\n",
       "      <td>01:37:12</td>\n",
       "      <td>Thursday</td>\n",
       "      <td>Thursday</td>\n",
       "    </tr>\n",
       "  </tbody>\n",
       "</table>\n",
       "</div>"
      ],
      "text/plain": [
       "            ride_id  rideable_type             start_station_name  \\\n",
       "0  C2F7DD78E82EC875  electric_bike       Glenwood Ave & Touhy Ave   \n",
       "1  A6CF8980A652D272  electric_bike       Glenwood Ave & Touhy Ave   \n",
       "2  BD0F91DFF741C66D   classic_bike  Sheffield Ave & Fullerton Ave   \n",
       "3  CBB80ED419105406   classic_bike       Clark St & Bryn Mawr Ave   \n",
       "4  DDC963BFDDA51EEA   classic_bike    Michigan Ave & Jackson Blvd   \n",
       "\n",
       "  start_station_id               end_station_name end_station_id  start_lat  \\\n",
       "0              525           Clark St & Touhy Ave         RP-007  42.012800   \n",
       "1              525           Clark St & Touhy Ave         RP-007  42.012763   \n",
       "2     TA1306000016  Greenview Ave & Fullerton Ave   TA1307000001  41.925602   \n",
       "3     KA1504000151      Paulina St & Montrose Ave   TA1309000021  41.983593   \n",
       "4     TA1309000002         State St & Randolph St   TA1305000029  41.877850   \n",
       "\n",
       "   start_lng    end_lat    end_lng member_casual  startdate starttime  \\\n",
       "0 -87.665906  42.012560 -87.674367        casual 2022-01-13  11:59:47   \n",
       "1 -87.665967  42.012560 -87.674367        casual 2022-01-10  08:41:56   \n",
       "2 -87.653708  41.925330 -87.665800        member 2022-01-25  04:53:40   \n",
       "3 -87.669154  41.961507 -87.671387        casual 2022-01-04  00:18:04   \n",
       "4 -87.624080  41.884621 -87.627834        member 2022-01-20  01:31:10   \n",
       "\n",
       "     enddate   endtime  startday    endday  \n",
       "0 2022-01-13  12:02:44  Thursday  Thursday  \n",
       "1 2022-01-10  08:46:17    Monday    Monday  \n",
       "2 2022-01-25  04:58:01   Tuesday   Tuesday  \n",
       "3 2022-01-04  00:33:00   Tuesday   Tuesday  \n",
       "4 2022-01-20  01:37:12  Thursday  Thursday  "
      ]
     },
     "execution_count": 16,
     "metadata": {},
     "output_type": "execute_result"
    }
   ],
   "source": [
    "#Cleaning process to eliminate non-used columns\n",
    "merger.drop(merger.columns[2:4],axis=1,inplace=True)\n",
    "merger.head()"
   ]
  },
  {
   "cell_type": "code",
   "execution_count": 17,
   "id": "919869fe",
   "metadata": {},
   "outputs": [],
   "source": [
    "from datetime import timedelta"
   ]
  },
  {
   "cell_type": "code",
   "execution_count": 18,
   "id": "db6814f4",
   "metadata": {},
   "outputs": [],
   "source": [
    "#Convert start and end times to string and timedelta to get duration of each ride\n",
    "merger['starttime']= (merger['starttime'].astype('string').apply(pd.Timedelta))"
   ]
  },
  {
   "cell_type": "code",
   "execution_count": 19,
   "id": "b0fad913",
   "metadata": {},
   "outputs": [],
   "source": [
    "merger['endtime']= (merger['endtime'].astype('string').apply(pd.Timedelta))"
   ]
  },
  {
   "cell_type": "code",
   "execution_count": 20,
   "id": "d023eea7",
   "metadata": {},
   "outputs": [],
   "source": [
    "#Create a backup dataframe for any downfall in the code\n",
    "merger2=merger"
   ]
  },
  {
   "cell_type": "markdown",
   "id": "a76bf56b",
   "metadata": {},
   "source": [
    "Cleaning and elimination of non-used columns:"
   ]
  },
  {
   "cell_type": "code",
   "execution_count": 21,
   "id": "9517e0eb",
   "metadata": {},
   "outputs": [
    {
     "data": {
      "text/html": [
       "<div>\n",
       "<style scoped>\n",
       "    .dataframe tbody tr th:only-of-type {\n",
       "        vertical-align: middle;\n",
       "    }\n",
       "\n",
       "    .dataframe tbody tr th {\n",
       "        vertical-align: top;\n",
       "    }\n",
       "\n",
       "    .dataframe thead th {\n",
       "        text-align: right;\n",
       "    }\n",
       "</style>\n",
       "<table border=\"1\" class=\"dataframe\">\n",
       "  <thead>\n",
       "    <tr style=\"text-align: right;\">\n",
       "      <th></th>\n",
       "      <th>ride_id</th>\n",
       "      <th>rideable_type</th>\n",
       "      <th>start_station_name</th>\n",
       "      <th>start_station_id</th>\n",
       "      <th>end_station_name</th>\n",
       "      <th>end_station_id</th>\n",
       "      <th>start_lat</th>\n",
       "      <th>start_lng</th>\n",
       "      <th>end_lat</th>\n",
       "      <th>end_lng</th>\n",
       "      <th>member_casual</th>\n",
       "      <th>startdate</th>\n",
       "      <th>starttime</th>\n",
       "      <th>enddate</th>\n",
       "      <th>endtime</th>\n",
       "      <th>startday</th>\n",
       "      <th>endday</th>\n",
       "      <th>duration</th>\n",
       "    </tr>\n",
       "  </thead>\n",
       "  <tbody>\n",
       "    <tr>\n",
       "      <th>0</th>\n",
       "      <td>C2F7DD78E82EC875</td>\n",
       "      <td>electric_bike</td>\n",
       "      <td>Glenwood Ave &amp; Touhy Ave</td>\n",
       "      <td>525</td>\n",
       "      <td>Clark St &amp; Touhy Ave</td>\n",
       "      <td>RP-007</td>\n",
       "      <td>42.012800</td>\n",
       "      <td>-87.665906</td>\n",
       "      <td>42.012560</td>\n",
       "      <td>-87.674367</td>\n",
       "      <td>casual</td>\n",
       "      <td>2022-01-13</td>\n",
       "      <td>0 days 11:59:47</td>\n",
       "      <td>2022-01-13</td>\n",
       "      <td>0 days 12:02:44</td>\n",
       "      <td>Thursday</td>\n",
       "      <td>Thursday</td>\n",
       "      <td>2.950000</td>\n",
       "    </tr>\n",
       "    <tr>\n",
       "      <th>1</th>\n",
       "      <td>A6CF8980A652D272</td>\n",
       "      <td>electric_bike</td>\n",
       "      <td>Glenwood Ave &amp; Touhy Ave</td>\n",
       "      <td>525</td>\n",
       "      <td>Clark St &amp; Touhy Ave</td>\n",
       "      <td>RP-007</td>\n",
       "      <td>42.012763</td>\n",
       "      <td>-87.665967</td>\n",
       "      <td>42.012560</td>\n",
       "      <td>-87.674367</td>\n",
       "      <td>casual</td>\n",
       "      <td>2022-01-10</td>\n",
       "      <td>0 days 08:41:56</td>\n",
       "      <td>2022-01-10</td>\n",
       "      <td>0 days 08:46:17</td>\n",
       "      <td>Monday</td>\n",
       "      <td>Monday</td>\n",
       "      <td>4.350000</td>\n",
       "    </tr>\n",
       "    <tr>\n",
       "      <th>2</th>\n",
       "      <td>BD0F91DFF741C66D</td>\n",
       "      <td>classic_bike</td>\n",
       "      <td>Sheffield Ave &amp; Fullerton Ave</td>\n",
       "      <td>TA1306000016</td>\n",
       "      <td>Greenview Ave &amp; Fullerton Ave</td>\n",
       "      <td>TA1307000001</td>\n",
       "      <td>41.925602</td>\n",
       "      <td>-87.653708</td>\n",
       "      <td>41.925330</td>\n",
       "      <td>-87.665800</td>\n",
       "      <td>member</td>\n",
       "      <td>2022-01-25</td>\n",
       "      <td>0 days 04:53:40</td>\n",
       "      <td>2022-01-25</td>\n",
       "      <td>0 days 04:58:01</td>\n",
       "      <td>Tuesday</td>\n",
       "      <td>Tuesday</td>\n",
       "      <td>4.350000</td>\n",
       "    </tr>\n",
       "    <tr>\n",
       "      <th>3</th>\n",
       "      <td>CBB80ED419105406</td>\n",
       "      <td>classic_bike</td>\n",
       "      <td>Clark St &amp; Bryn Mawr Ave</td>\n",
       "      <td>KA1504000151</td>\n",
       "      <td>Paulina St &amp; Montrose Ave</td>\n",
       "      <td>TA1309000021</td>\n",
       "      <td>41.983593</td>\n",
       "      <td>-87.669154</td>\n",
       "      <td>41.961507</td>\n",
       "      <td>-87.671387</td>\n",
       "      <td>casual</td>\n",
       "      <td>2022-01-04</td>\n",
       "      <td>0 days 00:18:04</td>\n",
       "      <td>2022-01-04</td>\n",
       "      <td>0 days 00:33:00</td>\n",
       "      <td>Tuesday</td>\n",
       "      <td>Tuesday</td>\n",
       "      <td>14.933333</td>\n",
       "    </tr>\n",
       "    <tr>\n",
       "      <th>4</th>\n",
       "      <td>DDC963BFDDA51EEA</td>\n",
       "      <td>classic_bike</td>\n",
       "      <td>Michigan Ave &amp; Jackson Blvd</td>\n",
       "      <td>TA1309000002</td>\n",
       "      <td>State St &amp; Randolph St</td>\n",
       "      <td>TA1305000029</td>\n",
       "      <td>41.877850</td>\n",
       "      <td>-87.624080</td>\n",
       "      <td>41.884621</td>\n",
       "      <td>-87.627834</td>\n",
       "      <td>member</td>\n",
       "      <td>2022-01-20</td>\n",
       "      <td>0 days 01:31:10</td>\n",
       "      <td>2022-01-20</td>\n",
       "      <td>0 days 01:37:12</td>\n",
       "      <td>Thursday</td>\n",
       "      <td>Thursday</td>\n",
       "      <td>6.033333</td>\n",
       "    </tr>\n",
       "  </tbody>\n",
       "</table>\n",
       "</div>"
      ],
      "text/plain": [
       "            ride_id  rideable_type             start_station_name  \\\n",
       "0  C2F7DD78E82EC875  electric_bike       Glenwood Ave & Touhy Ave   \n",
       "1  A6CF8980A652D272  electric_bike       Glenwood Ave & Touhy Ave   \n",
       "2  BD0F91DFF741C66D   classic_bike  Sheffield Ave & Fullerton Ave   \n",
       "3  CBB80ED419105406   classic_bike       Clark St & Bryn Mawr Ave   \n",
       "4  DDC963BFDDA51EEA   classic_bike    Michigan Ave & Jackson Blvd   \n",
       "\n",
       "  start_station_id               end_station_name end_station_id  start_lat  \\\n",
       "0              525           Clark St & Touhy Ave         RP-007  42.012800   \n",
       "1              525           Clark St & Touhy Ave         RP-007  42.012763   \n",
       "2     TA1306000016  Greenview Ave & Fullerton Ave   TA1307000001  41.925602   \n",
       "3     KA1504000151      Paulina St & Montrose Ave   TA1309000021  41.983593   \n",
       "4     TA1309000002         State St & Randolph St   TA1305000029  41.877850   \n",
       "\n",
       "   start_lng    end_lat    end_lng member_casual  startdate       starttime  \\\n",
       "0 -87.665906  42.012560 -87.674367        casual 2022-01-13 0 days 11:59:47   \n",
       "1 -87.665967  42.012560 -87.674367        casual 2022-01-10 0 days 08:41:56   \n",
       "2 -87.653708  41.925330 -87.665800        member 2022-01-25 0 days 04:53:40   \n",
       "3 -87.669154  41.961507 -87.671387        casual 2022-01-04 0 days 00:18:04   \n",
       "4 -87.624080  41.884621 -87.627834        member 2022-01-20 0 days 01:31:10   \n",
       "\n",
       "     enddate         endtime  startday    endday   duration  \n",
       "0 2022-01-13 0 days 12:02:44  Thursday  Thursday   2.950000  \n",
       "1 2022-01-10 0 days 08:46:17    Monday    Monday   4.350000  \n",
       "2 2022-01-25 0 days 04:58:01   Tuesday   Tuesday   4.350000  \n",
       "3 2022-01-04 0 days 00:33:00   Tuesday   Tuesday  14.933333  \n",
       "4 2022-01-20 0 days 01:37:12  Thursday  Thursday   6.033333  "
      ]
     },
     "execution_count": 21,
     "metadata": {},
     "output_type": "execute_result"
    }
   ],
   "source": [
    "#Create Duration column in minutes\n",
    "merger['duration']=((merger['endtime']-merger['starttime']).dt.total_seconds())/60\n",
    "#Eliminate trip which started and ended in other days - one trip as per dataset nunique output\n",
    "merger.drop(merger.loc[merger['duration']<0].index,inplace=True)\n",
    "merger.drop(merger.loc[merger['duration']==0].index,inplace=True)\n",
    "merger.dropna()\n",
    "merger.head()"
   ]
  },
  {
   "cell_type": "code",
   "execution_count": 22,
   "id": "b21b4f7a",
   "metadata": {
    "scrolled": true
   },
   "outputs": [
    {
     "data": {
      "text/html": [
       "<div>\n",
       "<style scoped>\n",
       "    .dataframe tbody tr th:only-of-type {\n",
       "        vertical-align: middle;\n",
       "    }\n",
       "\n",
       "    .dataframe tbody tr th {\n",
       "        vertical-align: top;\n",
       "    }\n",
       "\n",
       "    .dataframe thead th {\n",
       "        text-align: right;\n",
       "    }\n",
       "</style>\n",
       "<table border=\"1\" class=\"dataframe\">\n",
       "  <thead>\n",
       "    <tr style=\"text-align: right;\">\n",
       "      <th></th>\n",
       "      <th>ride_id</th>\n",
       "      <th>rideable_type</th>\n",
       "      <th>start_station_name</th>\n",
       "      <th>start_station_id</th>\n",
       "      <th>end_station_name</th>\n",
       "      <th>end_station_id</th>\n",
       "      <th>start_lat</th>\n",
       "      <th>start_lng</th>\n",
       "      <th>end_lat</th>\n",
       "      <th>end_lng</th>\n",
       "      <th>member_casual</th>\n",
       "      <th>startdate</th>\n",
       "      <th>starttime</th>\n",
       "      <th>enddate</th>\n",
       "      <th>endtime</th>\n",
       "      <th>startday</th>\n",
       "      <th>endday</th>\n",
       "      <th>duration</th>\n",
       "    </tr>\n",
       "  </thead>\n",
       "  <tbody>\n",
       "    <tr>\n",
       "      <th>0</th>\n",
       "      <td>C2F7DD78E82EC875</td>\n",
       "      <td>electric_bike</td>\n",
       "      <td>Glenwood Ave &amp; Touhy Ave</td>\n",
       "      <td>525</td>\n",
       "      <td>Clark St &amp; Touhy Ave</td>\n",
       "      <td>RP-007</td>\n",
       "      <td>42.012800</td>\n",
       "      <td>-87.665906</td>\n",
       "      <td>42.012560</td>\n",
       "      <td>-87.674367</td>\n",
       "      <td>casual</td>\n",
       "      <td>2022-01-13</td>\n",
       "      <td>0 days 11:59:47</td>\n",
       "      <td>2022-01-13</td>\n",
       "      <td>0 days 12:02:44</td>\n",
       "      <td>Thursday</td>\n",
       "      <td>Thursday</td>\n",
       "      <td>2.950000</td>\n",
       "    </tr>\n",
       "    <tr>\n",
       "      <th>1</th>\n",
       "      <td>A6CF8980A652D272</td>\n",
       "      <td>electric_bike</td>\n",
       "      <td>Glenwood Ave &amp; Touhy Ave</td>\n",
       "      <td>525</td>\n",
       "      <td>Clark St &amp; Touhy Ave</td>\n",
       "      <td>RP-007</td>\n",
       "      <td>42.012763</td>\n",
       "      <td>-87.665967</td>\n",
       "      <td>42.012560</td>\n",
       "      <td>-87.674367</td>\n",
       "      <td>casual</td>\n",
       "      <td>2022-01-10</td>\n",
       "      <td>0 days 08:41:56</td>\n",
       "      <td>2022-01-10</td>\n",
       "      <td>0 days 08:46:17</td>\n",
       "      <td>Monday</td>\n",
       "      <td>Monday</td>\n",
       "      <td>4.350000</td>\n",
       "    </tr>\n",
       "    <tr>\n",
       "      <th>2</th>\n",
       "      <td>BD0F91DFF741C66D</td>\n",
       "      <td>classic_bike</td>\n",
       "      <td>Sheffield Ave &amp; Fullerton Ave</td>\n",
       "      <td>TA1306000016</td>\n",
       "      <td>Greenview Ave &amp; Fullerton Ave</td>\n",
       "      <td>TA1307000001</td>\n",
       "      <td>41.925602</td>\n",
       "      <td>-87.653708</td>\n",
       "      <td>41.925330</td>\n",
       "      <td>-87.665800</td>\n",
       "      <td>member</td>\n",
       "      <td>2022-01-25</td>\n",
       "      <td>0 days 04:53:40</td>\n",
       "      <td>2022-01-25</td>\n",
       "      <td>0 days 04:58:01</td>\n",
       "      <td>Tuesday</td>\n",
       "      <td>Tuesday</td>\n",
       "      <td>4.350000</td>\n",
       "    </tr>\n",
       "    <tr>\n",
       "      <th>3</th>\n",
       "      <td>CBB80ED419105406</td>\n",
       "      <td>classic_bike</td>\n",
       "      <td>Clark St &amp; Bryn Mawr Ave</td>\n",
       "      <td>KA1504000151</td>\n",
       "      <td>Paulina St &amp; Montrose Ave</td>\n",
       "      <td>TA1309000021</td>\n",
       "      <td>41.983593</td>\n",
       "      <td>-87.669154</td>\n",
       "      <td>41.961507</td>\n",
       "      <td>-87.671387</td>\n",
       "      <td>casual</td>\n",
       "      <td>2022-01-04</td>\n",
       "      <td>0 days 00:18:04</td>\n",
       "      <td>2022-01-04</td>\n",
       "      <td>0 days 00:33:00</td>\n",
       "      <td>Tuesday</td>\n",
       "      <td>Tuesday</td>\n",
       "      <td>14.933333</td>\n",
       "    </tr>\n",
       "    <tr>\n",
       "      <th>4</th>\n",
       "      <td>DDC963BFDDA51EEA</td>\n",
       "      <td>classic_bike</td>\n",
       "      <td>Michigan Ave &amp; Jackson Blvd</td>\n",
       "      <td>TA1309000002</td>\n",
       "      <td>State St &amp; Randolph St</td>\n",
       "      <td>TA1305000029</td>\n",
       "      <td>41.877850</td>\n",
       "      <td>-87.624080</td>\n",
       "      <td>41.884621</td>\n",
       "      <td>-87.627834</td>\n",
       "      <td>member</td>\n",
       "      <td>2022-01-20</td>\n",
       "      <td>0 days 01:31:10</td>\n",
       "      <td>2022-01-20</td>\n",
       "      <td>0 days 01:37:12</td>\n",
       "      <td>Thursday</td>\n",
       "      <td>Thursday</td>\n",
       "      <td>6.033333</td>\n",
       "    </tr>\n",
       "    <tr>\n",
       "      <th>...</th>\n",
       "      <td>...</td>\n",
       "      <td>...</td>\n",
       "      <td>...</td>\n",
       "      <td>...</td>\n",
       "      <td>...</td>\n",
       "      <td>...</td>\n",
       "      <td>...</td>\n",
       "      <td>...</td>\n",
       "      <td>...</td>\n",
       "      <td>...</td>\n",
       "      <td>...</td>\n",
       "      <td>...</td>\n",
       "      <td>...</td>\n",
       "      <td>...</td>\n",
       "      <td>...</td>\n",
       "      <td>...</td>\n",
       "      <td>...</td>\n",
       "      <td>...</td>\n",
       "    </tr>\n",
       "    <tr>\n",
       "      <th>337730</th>\n",
       "      <td>C349E243A9BAA6F7</td>\n",
       "      <td>electric_bike</td>\n",
       "      <td>Wabash Ave &amp; Grand Ave</td>\n",
       "      <td>TA1307000117</td>\n",
       "      <td>NaN</td>\n",
       "      <td>NaN</td>\n",
       "      <td>41.891836</td>\n",
       "      <td>-87.626806</td>\n",
       "      <td>41.890000</td>\n",
       "      <td>-87.620000</td>\n",
       "      <td>member</td>\n",
       "      <td>2022-11-25</td>\n",
       "      <td>0 days 11:19:52</td>\n",
       "      <td>2022-11-25</td>\n",
       "      <td>0 days 11:31:50</td>\n",
       "      <td>Friday</td>\n",
       "      <td>Friday</td>\n",
       "      <td>11.966667</td>\n",
       "    </tr>\n",
       "    <tr>\n",
       "      <th>337731</th>\n",
       "      <td>B0B4E85DA43A9194</td>\n",
       "      <td>classic_bike</td>\n",
       "      <td>Franklin St &amp; Jackson Blvd</td>\n",
       "      <td>TA1305000025</td>\n",
       "      <td>Sheffield Ave &amp; Wrightwood Ave</td>\n",
       "      <td>TA1309000023</td>\n",
       "      <td>41.877708</td>\n",
       "      <td>-87.635321</td>\n",
       "      <td>41.928712</td>\n",
       "      <td>-87.653833</td>\n",
       "      <td>casual</td>\n",
       "      <td>2022-11-22</td>\n",
       "      <td>0 days 16:57:53</td>\n",
       "      <td>2022-11-22</td>\n",
       "      <td>0 days 17:31:29</td>\n",
       "      <td>Tuesday</td>\n",
       "      <td>Tuesday</td>\n",
       "      <td>33.600000</td>\n",
       "    </tr>\n",
       "    <tr>\n",
       "      <th>337732</th>\n",
       "      <td>8D148DD47B59530B</td>\n",
       "      <td>classic_bike</td>\n",
       "      <td>Michigan Ave &amp; Ida B Wells Dr</td>\n",
       "      <td>TA1305000010</td>\n",
       "      <td>Shedd Aquarium</td>\n",
       "      <td>15544</td>\n",
       "      <td>41.876243</td>\n",
       "      <td>-87.624426</td>\n",
       "      <td>41.867226</td>\n",
       "      <td>-87.615355</td>\n",
       "      <td>casual</td>\n",
       "      <td>2022-11-06</td>\n",
       "      <td>0 days 13:04:05</td>\n",
       "      <td>2022-11-06</td>\n",
       "      <td>0 days 13:13:33</td>\n",
       "      <td>Sunday</td>\n",
       "      <td>Sunday</td>\n",
       "      <td>9.466667</td>\n",
       "    </tr>\n",
       "    <tr>\n",
       "      <th>337733</th>\n",
       "      <td>0D1170BA18FD33D1</td>\n",
       "      <td>classic_bike</td>\n",
       "      <td>Halsted St &amp; 18th St</td>\n",
       "      <td>13099</td>\n",
       "      <td>Shedd Aquarium</td>\n",
       "      <td>15544</td>\n",
       "      <td>41.857506</td>\n",
       "      <td>-87.645991</td>\n",
       "      <td>41.867226</td>\n",
       "      <td>-87.615355</td>\n",
       "      <td>casual</td>\n",
       "      <td>2022-11-06</td>\n",
       "      <td>0 days 09:41:29</td>\n",
       "      <td>2022-11-06</td>\n",
       "      <td>0 days 15:17:17</td>\n",
       "      <td>Sunday</td>\n",
       "      <td>Sunday</td>\n",
       "      <td>335.800000</td>\n",
       "    </tr>\n",
       "    <tr>\n",
       "      <th>337734</th>\n",
       "      <td>09B20DC75B5EA1E0</td>\n",
       "      <td>electric_bike</td>\n",
       "      <td>Michigan Ave &amp; Ida B Wells Dr</td>\n",
       "      <td>TA1305000010</td>\n",
       "      <td>Shedd Aquarium</td>\n",
       "      <td>15544</td>\n",
       "      <td>41.876272</td>\n",
       "      <td>-87.624576</td>\n",
       "      <td>41.867226</td>\n",
       "      <td>-87.615355</td>\n",
       "      <td>casual</td>\n",
       "      <td>2022-11-26</td>\n",
       "      <td>0 days 11:59:28</td>\n",
       "      <td>2022-11-26</td>\n",
       "      <td>0 days 12:31:04</td>\n",
       "      <td>Saturday</td>\n",
       "      <td>Saturday</td>\n",
       "      <td>31.600000</td>\n",
       "    </tr>\n",
       "  </tbody>\n",
       "</table>\n",
       "<p>5266021 rows × 18 columns</p>\n",
       "</div>"
      ],
      "text/plain": [
       "                 ride_id  rideable_type             start_station_name  \\\n",
       "0       C2F7DD78E82EC875  electric_bike       Glenwood Ave & Touhy Ave   \n",
       "1       A6CF8980A652D272  electric_bike       Glenwood Ave & Touhy Ave   \n",
       "2       BD0F91DFF741C66D   classic_bike  Sheffield Ave & Fullerton Ave   \n",
       "3       CBB80ED419105406   classic_bike       Clark St & Bryn Mawr Ave   \n",
       "4       DDC963BFDDA51EEA   classic_bike    Michigan Ave & Jackson Blvd   \n",
       "...                  ...            ...                            ...   \n",
       "337730  C349E243A9BAA6F7  electric_bike         Wabash Ave & Grand Ave   \n",
       "337731  B0B4E85DA43A9194   classic_bike     Franklin St & Jackson Blvd   \n",
       "337732  8D148DD47B59530B   classic_bike  Michigan Ave & Ida B Wells Dr   \n",
       "337733  0D1170BA18FD33D1   classic_bike           Halsted St & 18th St   \n",
       "337734  09B20DC75B5EA1E0  electric_bike  Michigan Ave & Ida B Wells Dr   \n",
       "\n",
       "       start_station_id                end_station_name end_station_id  \\\n",
       "0                   525            Clark St & Touhy Ave         RP-007   \n",
       "1                   525            Clark St & Touhy Ave         RP-007   \n",
       "2          TA1306000016   Greenview Ave & Fullerton Ave   TA1307000001   \n",
       "3          KA1504000151       Paulina St & Montrose Ave   TA1309000021   \n",
       "4          TA1309000002          State St & Randolph St   TA1305000029   \n",
       "...                 ...                             ...            ...   \n",
       "337730     TA1307000117                             NaN            NaN   \n",
       "337731     TA1305000025  Sheffield Ave & Wrightwood Ave   TA1309000023   \n",
       "337732     TA1305000010                  Shedd Aquarium          15544   \n",
       "337733            13099                  Shedd Aquarium          15544   \n",
       "337734     TA1305000010                  Shedd Aquarium          15544   \n",
       "\n",
       "        start_lat  start_lng    end_lat    end_lng member_casual  startdate  \\\n",
       "0       42.012800 -87.665906  42.012560 -87.674367        casual 2022-01-13   \n",
       "1       42.012763 -87.665967  42.012560 -87.674367        casual 2022-01-10   \n",
       "2       41.925602 -87.653708  41.925330 -87.665800        member 2022-01-25   \n",
       "3       41.983593 -87.669154  41.961507 -87.671387        casual 2022-01-04   \n",
       "4       41.877850 -87.624080  41.884621 -87.627834        member 2022-01-20   \n",
       "...           ...        ...        ...        ...           ...        ...   \n",
       "337730  41.891836 -87.626806  41.890000 -87.620000        member 2022-11-25   \n",
       "337731  41.877708 -87.635321  41.928712 -87.653833        casual 2022-11-22   \n",
       "337732  41.876243 -87.624426  41.867226 -87.615355        casual 2022-11-06   \n",
       "337733  41.857506 -87.645991  41.867226 -87.615355        casual 2022-11-06   \n",
       "337734  41.876272 -87.624576  41.867226 -87.615355        casual 2022-11-26   \n",
       "\n",
       "             starttime    enddate         endtime  startday    endday  \\\n",
       "0      0 days 11:59:47 2022-01-13 0 days 12:02:44  Thursday  Thursday   \n",
       "1      0 days 08:41:56 2022-01-10 0 days 08:46:17    Monday    Monday   \n",
       "2      0 days 04:53:40 2022-01-25 0 days 04:58:01   Tuesday   Tuesday   \n",
       "3      0 days 00:18:04 2022-01-04 0 days 00:33:00   Tuesday   Tuesday   \n",
       "4      0 days 01:31:10 2022-01-20 0 days 01:37:12  Thursday  Thursday   \n",
       "...                ...        ...             ...       ...       ...   \n",
       "337730 0 days 11:19:52 2022-11-25 0 days 11:31:50    Friday    Friday   \n",
       "337731 0 days 16:57:53 2022-11-22 0 days 17:31:29   Tuesday   Tuesday   \n",
       "337732 0 days 13:04:05 2022-11-06 0 days 13:13:33    Sunday    Sunday   \n",
       "337733 0 days 09:41:29 2022-11-06 0 days 15:17:17    Sunday    Sunday   \n",
       "337734 0 days 11:59:28 2022-11-26 0 days 12:31:04  Saturday  Saturday   \n",
       "\n",
       "          duration  \n",
       "0         2.950000  \n",
       "1         4.350000  \n",
       "2         4.350000  \n",
       "3        14.933333  \n",
       "4         6.033333  \n",
       "...            ...  \n",
       "337730   11.966667  \n",
       "337731   33.600000  \n",
       "337732    9.466667  \n",
       "337733  335.800000  \n",
       "337734   31.600000  \n",
       "\n",
       "[5266021 rows x 18 columns]"
      ]
     },
     "execution_count": 22,
     "metadata": {},
     "output_type": "execute_result"
    }
   ],
   "source": [
    "merger.dropna(axis=0,how='all')"
   ]
  },
  {
   "cell_type": "code",
   "execution_count": 23,
   "id": "1c14ece6",
   "metadata": {
    "scrolled": true
   },
   "outputs": [
    {
     "data": {
      "text/plain": [
       "ride_id               5266021\n",
       "rideable_type               3\n",
       "start_station_name       1656\n",
       "start_station_id         1308\n",
       "end_station_name         1673\n",
       "end_station_id           1315\n",
       "start_lat              637179\n",
       "start_lng              602361\n",
       "end_lat                  1573\n",
       "end_lng                  1556\n",
       "member_casual               2\n",
       "startdate                 334\n",
       "starttime               86238\n",
       "enddate                   335\n",
       "endtime                 86238\n",
       "startday                    7\n",
       "endday                      7\n",
       "duration                17568\n",
       "dtype: int64"
      ]
     },
     "execution_count": 23,
     "metadata": {},
     "output_type": "execute_result"
    }
   ],
   "source": [
    "merger.nunique()"
   ]
  },
  {
   "cell_type": "code",
   "execution_count": 24,
   "id": "1fb1d3fd",
   "metadata": {},
   "outputs": [
    {
     "data": {
      "text/plain": [
       "ride_id                    0\n",
       "rideable_type              0\n",
       "start_station_name    773839\n",
       "start_station_id      773839\n",
       "end_station_name      828606\n",
       "end_station_id        828606\n",
       "start_lat                  0\n",
       "start_lng                  0\n",
       "end_lat                 4306\n",
       "end_lng                 4306\n",
       "member_casual              0\n",
       "startdate                  0\n",
       "starttime                  0\n",
       "enddate                    0\n",
       "endtime                    0\n",
       "startday                   0\n",
       "endday                     0\n",
       "duration                   0\n",
       "dtype: int64"
      ]
     },
     "execution_count": 24,
     "metadata": {},
     "output_type": "execute_result"
    }
   ],
   "source": [
    "merger.isnull().sum()"
   ]
  },
  {
   "cell_type": "code",
   "execution_count": 25,
   "id": "ed3b02d4",
   "metadata": {},
   "outputs": [
    {
     "data": {
      "text/plain": [
       "ride_id               5266021\n",
       "rideable_type               3\n",
       "start_station_name       1656\n",
       "start_station_id         1308\n",
       "end_station_name         1673\n",
       "end_station_id           1315\n",
       "start_lat              637179\n",
       "start_lng              602361\n",
       "end_lat                  1573\n",
       "end_lng                  1556\n",
       "member_casual               2\n",
       "startdate                 334\n",
       "starttime               86238\n",
       "enddate                   335\n",
       "endtime                 86238\n",
       "startday                    7\n",
       "endday                      7\n",
       "duration                17568\n",
       "dtype: int64"
      ]
     },
     "execution_count": 25,
     "metadata": {},
     "output_type": "execute_result"
    }
   ],
   "source": [
    "merger.nunique()"
   ]
  },
  {
   "cell_type": "markdown",
   "id": "267c359b",
   "metadata": {},
   "source": [
    "## Analyzing the data after cleaning:"
   ]
  },
  {
   "cell_type": "markdown",
   "id": "282b14f6",
   "metadata": {},
   "source": [
    "### Maximum trip duration and data"
   ]
  },
  {
   "cell_type": "code",
   "execution_count": 26,
   "id": "fb5def89",
   "metadata": {},
   "outputs": [
    {
     "data": {
      "text/plain": [
       "1408.4833333333333"
      ]
     },
     "execution_count": 26,
     "metadata": {},
     "output_type": "execute_result"
    }
   ],
   "source": [
    "#Get max. trip duration and its details\n",
    "merger['duration'].max()"
   ]
  },
  {
   "cell_type": "code",
   "execution_count": 27,
   "id": "2fc4a411",
   "metadata": {},
   "outputs": [
    {
     "data": {
      "text/html": [
       "<div>\n",
       "<style scoped>\n",
       "    .dataframe tbody tr th:only-of-type {\n",
       "        vertical-align: middle;\n",
       "    }\n",
       "\n",
       "    .dataframe tbody tr th {\n",
       "        vertical-align: top;\n",
       "    }\n",
       "\n",
       "    .dataframe thead th {\n",
       "        text-align: right;\n",
       "    }\n",
       "</style>\n",
       "<table border=\"1\" class=\"dataframe\">\n",
       "  <thead>\n",
       "    <tr style=\"text-align: right;\">\n",
       "      <th></th>\n",
       "      <th>ride_id</th>\n",
       "      <th>rideable_type</th>\n",
       "      <th>start_station_name</th>\n",
       "      <th>start_station_id</th>\n",
       "      <th>end_station_name</th>\n",
       "      <th>end_station_id</th>\n",
       "      <th>start_lat</th>\n",
       "      <th>start_lng</th>\n",
       "      <th>end_lat</th>\n",
       "      <th>end_lng</th>\n",
       "      <th>member_casual</th>\n",
       "      <th>startdate</th>\n",
       "      <th>starttime</th>\n",
       "      <th>enddate</th>\n",
       "      <th>endtime</th>\n",
       "      <th>startday</th>\n",
       "      <th>endday</th>\n",
       "      <th>duration</th>\n",
       "    </tr>\n",
       "  </thead>\n",
       "  <tbody>\n",
       "    <tr>\n",
       "      <th>17502</th>\n",
       "      <td>21F5D1C2E789B5A6</td>\n",
       "      <td>classic_bike</td>\n",
       "      <td>Desplaines St &amp; Kinzie St</td>\n",
       "      <td>TA1306000003</td>\n",
       "      <td>Sedgwick St &amp; North Ave</td>\n",
       "      <td>TA1307000038</td>\n",
       "      <td>41.888716</td>\n",
       "      <td>-87.644448</td>\n",
       "      <td>41.911386</td>\n",
       "      <td>-87.638677</td>\n",
       "      <td>casual</td>\n",
       "      <td>2022-07-31</td>\n",
       "      <td>0 days 00:21:49</td>\n",
       "      <td>2022-07-31</td>\n",
       "      <td>0 days 23:50:18</td>\n",
       "      <td>Sunday</td>\n",
       "      <td>Sunday</td>\n",
       "      <td>1408.483333</td>\n",
       "    </tr>\n",
       "  </tbody>\n",
       "</table>\n",
       "</div>"
      ],
      "text/plain": [
       "                ride_id rideable_type         start_station_name  \\\n",
       "17502  21F5D1C2E789B5A6  classic_bike  Desplaines St & Kinzie St   \n",
       "\n",
       "      start_station_id         end_station_name end_station_id  start_lat  \\\n",
       "17502     TA1306000003  Sedgwick St & North Ave   TA1307000038  41.888716   \n",
       "\n",
       "       start_lng    end_lat    end_lng member_casual  startdate  \\\n",
       "17502 -87.644448  41.911386 -87.638677        casual 2022-07-31   \n",
       "\n",
       "            starttime    enddate         endtime startday  endday     duration  \n",
       "17502 0 days 00:21:49 2022-07-31 0 days 23:50:18   Sunday  Sunday  1408.483333  "
      ]
     },
     "execution_count": 27,
     "metadata": {},
     "output_type": "execute_result"
    }
   ],
   "source": [
    "max_trip=merger.loc[merger['duration']==merger['duration'].max()]\n",
    "max_trip.head()"
   ]
  },
  {
   "cell_type": "code",
   "execution_count": 28,
   "id": "f233d483",
   "metadata": {},
   "outputs": [],
   "source": [
    "max_trip.to_csv('max_trip.csv')"
   ]
  },
  {
   "cell_type": "markdown",
   "id": "0bae22a0",
   "metadata": {},
   "source": [
    "### Minimum trip duration and data"
   ]
  },
  {
   "cell_type": "code",
   "execution_count": 29,
   "id": "5eeaa502",
   "metadata": {},
   "outputs": [
    {
     "data": {
      "text/plain": [
       "0.016666666666666666"
      ]
     },
     "execution_count": 29,
     "metadata": {},
     "output_type": "execute_result"
    }
   ],
   "source": [
    "#Get min. trip duration and its details\n",
    "merger['duration'].min()"
   ]
  },
  {
   "cell_type": "code",
   "execution_count": 30,
   "id": "01144563",
   "metadata": {},
   "outputs": [
    {
     "data": {
      "text/html": [
       "<div>\n",
       "<style scoped>\n",
       "    .dataframe tbody tr th:only-of-type {\n",
       "        vertical-align: middle;\n",
       "    }\n",
       "\n",
       "    .dataframe tbody tr th {\n",
       "        vertical-align: top;\n",
       "    }\n",
       "\n",
       "    .dataframe thead th {\n",
       "        text-align: right;\n",
       "    }\n",
       "</style>\n",
       "<table border=\"1\" class=\"dataframe\">\n",
       "  <thead>\n",
       "    <tr style=\"text-align: right;\">\n",
       "      <th></th>\n",
       "      <th>ride_id</th>\n",
       "      <th>rideable_type</th>\n",
       "      <th>start_station_name</th>\n",
       "      <th>start_station_id</th>\n",
       "      <th>end_station_name</th>\n",
       "      <th>end_station_id</th>\n",
       "      <th>start_lat</th>\n",
       "      <th>start_lng</th>\n",
       "      <th>end_lat</th>\n",
       "      <th>end_lng</th>\n",
       "      <th>member_casual</th>\n",
       "      <th>startdate</th>\n",
       "      <th>starttime</th>\n",
       "      <th>enddate</th>\n",
       "      <th>endtime</th>\n",
       "      <th>startday</th>\n",
       "      <th>endday</th>\n",
       "      <th>duration</th>\n",
       "    </tr>\n",
       "  </thead>\n",
       "  <tbody>\n",
       "    <tr>\n",
       "      <th>203</th>\n",
       "      <td>B0F160012485900B</td>\n",
       "      <td>classic_bike</td>\n",
       "      <td>Financial Pl &amp; Ida B Wells Dr</td>\n",
       "      <td>SL-010</td>\n",
       "      <td>Financial Pl &amp; Ida B Wells Dr</td>\n",
       "      <td>SL-010</td>\n",
       "      <td>41.875024</td>\n",
       "      <td>-87.633094</td>\n",
       "      <td>41.875024</td>\n",
       "      <td>-87.633094</td>\n",
       "      <td>member</td>\n",
       "      <td>2022-01-10</td>\n",
       "      <td>0 days 07:28:27</td>\n",
       "      <td>2022-01-10</td>\n",
       "      <td>0 days 07:28:28</td>\n",
       "      <td>Monday</td>\n",
       "      <td>Monday</td>\n",
       "      <td>0.016667</td>\n",
       "    </tr>\n",
       "    <tr>\n",
       "      <th>15877</th>\n",
       "      <td>B1BBF65BC2C3806E</td>\n",
       "      <td>classic_bike</td>\n",
       "      <td>Halsted St &amp; Archer Ave</td>\n",
       "      <td>TA1308000013</td>\n",
       "      <td>Halsted St &amp; Archer Ave</td>\n",
       "      <td>TA1308000013</td>\n",
       "      <td>41.847203</td>\n",
       "      <td>-87.646795</td>\n",
       "      <td>41.847203</td>\n",
       "      <td>-87.646795</td>\n",
       "      <td>member</td>\n",
       "      <td>2022-01-23</td>\n",
       "      <td>0 days 13:21:06</td>\n",
       "      <td>2022-01-23</td>\n",
       "      <td>0 days 13:21:07</td>\n",
       "      <td>Sunday</td>\n",
       "      <td>Sunday</td>\n",
       "      <td>0.016667</td>\n",
       "    </tr>\n",
       "    <tr>\n",
       "      <th>17966</th>\n",
       "      <td>93C86A208BF0568E</td>\n",
       "      <td>electric_bike</td>\n",
       "      <td>Clinton St &amp; Madison St</td>\n",
       "      <td>TA1305000032</td>\n",
       "      <td>Clinton St &amp; Madison St</td>\n",
       "      <td>TA1305000032</td>\n",
       "      <td>41.881840</td>\n",
       "      <td>-87.640791</td>\n",
       "      <td>41.882242</td>\n",
       "      <td>-87.641066</td>\n",
       "      <td>member</td>\n",
       "      <td>2022-01-27</td>\n",
       "      <td>0 days 08:46:23</td>\n",
       "      <td>2022-01-27</td>\n",
       "      <td>0 days 08:46:24</td>\n",
       "      <td>Thursday</td>\n",
       "      <td>Thursday</td>\n",
       "      <td>0.016667</td>\n",
       "    </tr>\n",
       "    <tr>\n",
       "      <th>43488</th>\n",
       "      <td>B78E6B3F8273FB01</td>\n",
       "      <td>electric_bike</td>\n",
       "      <td>Clark St &amp; Columbia Ave</td>\n",
       "      <td>RP-008</td>\n",
       "      <td>Clark St &amp; Columbia Ave</td>\n",
       "      <td>RP-008</td>\n",
       "      <td>42.004472</td>\n",
       "      <td>-87.672348</td>\n",
       "      <td>42.004451</td>\n",
       "      <td>-87.672402</td>\n",
       "      <td>member</td>\n",
       "      <td>2022-01-30</td>\n",
       "      <td>0 days 11:51:46</td>\n",
       "      <td>2022-01-30</td>\n",
       "      <td>0 days 11:51:47</td>\n",
       "      <td>Sunday</td>\n",
       "      <td>Sunday</td>\n",
       "      <td>0.016667</td>\n",
       "    </tr>\n",
       "    <tr>\n",
       "      <th>46093</th>\n",
       "      <td>C32D5D5D32BAAAD8</td>\n",
       "      <td>electric_bike</td>\n",
       "      <td>Damen Ave &amp; Pierce Ave</td>\n",
       "      <td>TA1305000041</td>\n",
       "      <td>Damen Ave &amp; Pierce Ave</td>\n",
       "      <td>TA1305000041</td>\n",
       "      <td>41.909408</td>\n",
       "      <td>-87.677687</td>\n",
       "      <td>41.909396</td>\n",
       "      <td>-87.677692</td>\n",
       "      <td>member</td>\n",
       "      <td>2022-01-11</td>\n",
       "      <td>0 days 13:22:43</td>\n",
       "      <td>2022-01-11</td>\n",
       "      <td>0 days 13:22:44</td>\n",
       "      <td>Tuesday</td>\n",
       "      <td>Tuesday</td>\n",
       "      <td>0.016667</td>\n",
       "    </tr>\n",
       "  </tbody>\n",
       "</table>\n",
       "</div>"
      ],
      "text/plain": [
       "                ride_id  rideable_type             start_station_name  \\\n",
       "203    B0F160012485900B   classic_bike  Financial Pl & Ida B Wells Dr   \n",
       "15877  B1BBF65BC2C3806E   classic_bike        Halsted St & Archer Ave   \n",
       "17966  93C86A208BF0568E  electric_bike        Clinton St & Madison St   \n",
       "43488  B78E6B3F8273FB01  electric_bike        Clark St & Columbia Ave   \n",
       "46093  C32D5D5D32BAAAD8  electric_bike         Damen Ave & Pierce Ave   \n",
       "\n",
       "      start_station_id               end_station_name end_station_id  \\\n",
       "203             SL-010  Financial Pl & Ida B Wells Dr         SL-010   \n",
       "15877     TA1308000013        Halsted St & Archer Ave   TA1308000013   \n",
       "17966     TA1305000032        Clinton St & Madison St   TA1305000032   \n",
       "43488           RP-008        Clark St & Columbia Ave         RP-008   \n",
       "46093     TA1305000041         Damen Ave & Pierce Ave   TA1305000041   \n",
       "\n",
       "       start_lat  start_lng    end_lat    end_lng member_casual  startdate  \\\n",
       "203    41.875024 -87.633094  41.875024 -87.633094        member 2022-01-10   \n",
       "15877  41.847203 -87.646795  41.847203 -87.646795        member 2022-01-23   \n",
       "17966  41.881840 -87.640791  41.882242 -87.641066        member 2022-01-27   \n",
       "43488  42.004472 -87.672348  42.004451 -87.672402        member 2022-01-30   \n",
       "46093  41.909408 -87.677687  41.909396 -87.677692        member 2022-01-11   \n",
       "\n",
       "            starttime    enddate         endtime  startday    endday  duration  \n",
       "203   0 days 07:28:27 2022-01-10 0 days 07:28:28    Monday    Monday  0.016667  \n",
       "15877 0 days 13:21:06 2022-01-23 0 days 13:21:07    Sunday    Sunday  0.016667  \n",
       "17966 0 days 08:46:23 2022-01-27 0 days 08:46:24  Thursday  Thursday  0.016667  \n",
       "43488 0 days 11:51:46 2022-01-30 0 days 11:51:47    Sunday    Sunday  0.016667  \n",
       "46093 0 days 13:22:43 2022-01-11 0 days 13:22:44   Tuesday   Tuesday  0.016667  "
      ]
     },
     "execution_count": 30,
     "metadata": {},
     "output_type": "execute_result"
    }
   ],
   "source": [
    "min_trip=merger.loc[merger['duration']==merger['duration'].min()]\n",
    "min_trip.head()\n"
   ]
  },
  {
   "cell_type": "markdown",
   "id": "29ec90d0",
   "metadata": {},
   "source": [
    "### Median and mean duration for trips:"
   ]
  },
  {
   "cell_type": "code",
   "execution_count": 31,
   "id": "dea011bb",
   "metadata": {},
   "outputs": [
    {
     "data": {
      "text/plain": [
       "10.366666666666667"
      ]
     },
     "execution_count": 31,
     "metadata": {},
     "output_type": "execute_result"
    }
   ],
   "source": [
    "merger['duration'].median()"
   ]
  },
  {
   "cell_type": "code",
   "execution_count": 32,
   "id": "396921ae",
   "metadata": {
    "scrolled": true
   },
   "outputs": [
    {
     "data": {
      "text/plain": [
       "15.968780786605647"
      ]
     },
     "execution_count": 32,
     "metadata": {},
     "output_type": "execute_result"
    }
   ],
   "source": [
    "merger['duration'].mean()"
   ]
  },
  {
   "cell_type": "code",
   "execution_count": 33,
   "id": "c5ea8beb",
   "metadata": {},
   "outputs": [
    {
     "name": "stdout",
     "output_type": "stream",
     "text": [
      "No. of Trips Above Mean Duration are:  1618203\n",
      "No. of Trips Below Mean Duration are:  3647818\n"
     ]
    }
   ],
   "source": [
    "mean=merger['duration'].mean()\n",
    "above_mean=merger.loc[merger['duration']>mean].shape[0]\n",
    "below_mean=merger.loc[merger['duration']<mean].shape[0]\n",
    "\n",
    "print('No. of Trips Above Mean Duration are: ',above_mean)\n",
    "print('No. of Trips Below Mean Duration are: ',below_mean)"
   ]
  },
  {
   "cell_type": "markdown",
   "id": "6c71b92f",
   "metadata": {},
   "source": [
    "### Identify preferable bike type for our customers:"
   ]
  },
  {
   "cell_type": "code",
   "execution_count": 34,
   "id": "08841e94",
   "metadata": {},
   "outputs": [
    {
     "data": {
      "text/plain": [
       "array(['electric_bike', 'classic_bike', 'docked_bike'], dtype=object)"
      ]
     },
     "execution_count": 34,
     "metadata": {},
     "output_type": "execute_result"
    }
   ],
   "source": [
    "#Specify bike types in company\n",
    "merger['rideable_type'].unique()"
   ]
  },
  {
   "cell_type": "code",
   "execution_count": 35,
   "id": "c3fe74a3",
   "metadata": {},
   "outputs": [
    {
     "data": {
      "text/plain": [
       "'electric_bike'"
      ]
     },
     "execution_count": 35,
     "metadata": {},
     "output_type": "execute_result"
    }
   ],
   "source": [
    "#Most preferred bike type\n",
    "merger['rideable_type'].value_counts().idxmax()"
   ]
  },
  {
   "cell_type": "code",
   "execution_count": 36,
   "id": "8cec94aa",
   "metadata": {},
   "outputs": [
    {
     "data": {
      "text/plain": [
       "electric_bike    2675078\n",
       "classic_bike     2425589\n",
       "docked_bike       165354\n",
       "Name: rideable_type, dtype: int64"
      ]
     },
     "execution_count": 36,
     "metadata": {},
     "output_type": "execute_result"
    }
   ],
   "source": [
    "#Ride numbers for each bike type\n",
    "merger['rideable_type'].value_counts()"
   ]
  },
  {
   "cell_type": "code",
   "execution_count": 52,
   "id": "f30f5878",
   "metadata": {},
   "outputs": [
    {
     "data": {
      "image/png": "[encoded data removed]",
      "text/plain": [
       "<Figure size 640x480 with 1 Axes>"
      ]
     },
     "metadata": {},
     "output_type": "display_data"
    }
   ],
   "source": [
    "sns.barplot(x=merger['rideable_type'].unique(),\n",
    "           y=merger['rideable_type'].value_counts()/1000000\n",
    "           );\n",
    "plt.xlabel('Types of Bikes Available');\n",
    "plt.ylabel('No of Rides for Each Type in millions');\n",
    "plt.title('Fig.1 Relation between Bike Type and Number of Rides');\n",
    "plt.tick_params(axis='y',labelsize=10);"
   ]
  },
  {
   "cell_type": "code",
   "execution_count": 53,
   "id": "cec7f801",
   "metadata": {},
   "outputs": [
    {
     "data": {
      "image/png": "[encoded data removed]",
      "text/plain": [
       "<Figure size 640x480 with 1 Axes>"
      ]
     },
     "metadata": {},
     "output_type": "display_data"
    }
   ],
   "source": [
    "y=merger['rideable_type'].value_counts()\n",
    "mlabels=merger['rideable_type'].unique()\n",
    "def per(values):\n",
    "    def form(pcntg):\n",
    "        total=sum(values)\n",
    "        val=int(round(pcntg*total/100.0))\n",
    "        return '{:.1f}%\\n'.format(pcntg,v=val)\n",
    "    return form\n",
    "plt.pie(y,labels=mlabels,autopct=per(y));\n",
    "plt.title('Fig. 2Percantage for Bike Types used by Customers');"
   ]
  },
  {
   "cell_type": "markdown",
   "id": "00160fa8",
   "metadata": {},
   "source": [
    "### Identify customers patterns:"
   ]
  },
  {
   "cell_type": "code",
   "execution_count": 54,
   "id": "533b3569",
   "metadata": {},
   "outputs": [
    {
     "data": {
      "text/plain": [
       "member    3084894\n",
       "casual    2181127\n",
       "Name: member_casual, dtype: int64"
      ]
     },
     "execution_count": 54,
     "metadata": {},
     "output_type": "execute_result"
    }
   ],
   "source": [
    "#Count total trips done by user types\n",
    "merger['member_casual'].value_counts()"
   ]
  },
  {
   "cell_type": "code",
   "execution_count": 55,
   "id": "6ffca91a",
   "metadata": {},
   "outputs": [
    {
     "data": {
      "image/png": "[encoded data removed]",
      "text/plain": [
       "<Figure size 640x480 with 1 Axes>"
      ]
     },
     "metadata": {},
     "output_type": "display_data"
    }
   ],
   "source": [
    "plt.pie(merger['member_casual'].value_counts(),\n",
    "        labels=merger['member_casual'].unique(),\n",
    "        autopct=per(merger['member_casual'].value_counts()));\n",
    "plt.title('Fig. 3 Percantage of Customers');"
   ]
  },
  {
   "cell_type": "markdown",
   "id": "2c9aa644",
   "metadata": {},
   "source": [
    "### Identify weekdays pattern:"
   ]
  },
  {
   "cell_type": "code",
   "execution_count": 56,
   "id": "3d3f550d",
   "metadata": {},
   "outputs": [
    {
     "data": {
      "text/plain": [
       "Saturday     853076\n",
       "Thursday     774422\n",
       "Wednesday    742662\n",
       "Friday       742216\n",
       "Sunday       729128\n",
       "Tuesday      725234\n",
       "Monday       699283\n",
       "Name: startday, dtype: int64"
      ]
     },
     "execution_count": 56,
     "metadata": {},
     "output_type": "execute_result"
    }
   ],
   "source": [
    "#Getting ride numbers in each day\n",
    "merger['startday'].value_counts()"
   ]
  },
  {
   "cell_type": "code",
   "execution_count": 60,
   "id": "15da8954",
   "metadata": {},
   "outputs": [
    {
     "data": {
      "image/png": "[encoded data removed]",
      "text/plain": [
       "<Figure size 640x480 with 1 Axes>"
      ]
     },
     "metadata": {},
     "output_type": "display_data"
    }
   ],
   "source": [
    "(merger['startday'].value_counts()/1000).plot(kind='bar',color='blue');\n",
    "plt.title('Fig. 4: No. of Rides per Weekday');\n",
    "plt.xlabel('Weekdays');\n",
    "plt.ylabel('Fig. 4: No of rides in thousands');"
   ]
  },
  {
   "cell_type": "markdown",
   "id": "3c483cb6",
   "metadata": {},
   "source": [
    "### Identify months pattern:"
   ]
  },
  {
   "cell_type": "code",
   "execution_count": null,
   "id": "15b354d5",
   "metadata": {},
   "outputs": [],
   "source": [
    "def day_mean(day):\n",
    "    merger.loc[merger['startday']==day]"
   ]
  },
  {
   "cell_type": "code",
   "execution_count": 73,
   "id": "bd62e59b",
   "metadata": {},
   "outputs": [
    {
     "data": {
      "text/html": [
       "<div>\n",
       "<style scoped>\n",
       "    .dataframe tbody tr th:only-of-type {\n",
       "        vertical-align: middle;\n",
       "    }\n",
       "\n",
       "    .dataframe tbody tr th {\n",
       "        vertical-align: top;\n",
       "    }\n",
       "\n",
       "    .dataframe thead th {\n",
       "        text-align: right;\n",
       "    }\n",
       "</style>\n",
       "<table border=\"1\" class=\"dataframe\">\n",
       "  <thead>\n",
       "    <tr style=\"text-align: right;\">\n",
       "      <th></th>\n",
       "      <th>ride_id</th>\n",
       "      <th>rideable_type</th>\n",
       "      <th>start_station_name</th>\n",
       "      <th>start_station_id</th>\n",
       "      <th>end_station_name</th>\n",
       "      <th>end_station_id</th>\n",
       "      <th>start_lat</th>\n",
       "      <th>start_lng</th>\n",
       "      <th>end_lat</th>\n",
       "      <th>end_lng</th>\n",
       "      <th>...</th>\n",
       "      <th>startdate</th>\n",
       "      <th>starttime</th>\n",
       "      <th>enddate</th>\n",
       "      <th>endtime</th>\n",
       "      <th>startday</th>\n",
       "      <th>endday</th>\n",
       "      <th>duration</th>\n",
       "      <th>month</th>\n",
       "      <th>month_full</th>\n",
       "      <th>month_name</th>\n",
       "    </tr>\n",
       "  </thead>\n",
       "  <tbody>\n",
       "    <tr>\n",
       "      <th>0</th>\n",
       "      <td>C2F7DD78E82EC875</td>\n",
       "      <td>electric_bike</td>\n",
       "      <td>Glenwood Ave &amp; Touhy Ave</td>\n",
       "      <td>525</td>\n",
       "      <td>Clark St &amp; Touhy Ave</td>\n",
       "      <td>RP-007</td>\n",
       "      <td>42.012800</td>\n",
       "      <td>-87.665906</td>\n",
       "      <td>42.012560</td>\n",
       "      <td>-87.674367</td>\n",
       "      <td>...</td>\n",
       "      <td>2022-01-13</td>\n",
       "      <td>0 days 11:59:47</td>\n",
       "      <td>2022-01-13</td>\n",
       "      <td>0 days 12:02:44</td>\n",
       "      <td>Thursday</td>\n",
       "      <td>Thursday</td>\n",
       "      <td>2.950000</td>\n",
       "      <td>1</td>\n",
       "      <td>January</td>\n",
       "      <td>Jan</td>\n",
       "    </tr>\n",
       "    <tr>\n",
       "      <th>1</th>\n",
       "      <td>A6CF8980A652D272</td>\n",
       "      <td>electric_bike</td>\n",
       "      <td>Glenwood Ave &amp; Touhy Ave</td>\n",
       "      <td>525</td>\n",
       "      <td>Clark St &amp; Touhy Ave</td>\n",
       "      <td>RP-007</td>\n",
       "      <td>42.012763</td>\n",
       "      <td>-87.665967</td>\n",
       "      <td>42.012560</td>\n",
       "      <td>-87.674367</td>\n",
       "      <td>...</td>\n",
       "      <td>2022-01-10</td>\n",
       "      <td>0 days 08:41:56</td>\n",
       "      <td>2022-01-10</td>\n",
       "      <td>0 days 08:46:17</td>\n",
       "      <td>Monday</td>\n",
       "      <td>Monday</td>\n",
       "      <td>4.350000</td>\n",
       "      <td>1</td>\n",
       "      <td>January</td>\n",
       "      <td>Jan</td>\n",
       "    </tr>\n",
       "    <tr>\n",
       "      <th>2</th>\n",
       "      <td>BD0F91DFF741C66D</td>\n",
       "      <td>classic_bike</td>\n",
       "      <td>Sheffield Ave &amp; Fullerton Ave</td>\n",
       "      <td>TA1306000016</td>\n",
       "      <td>Greenview Ave &amp; Fullerton Ave</td>\n",
       "      <td>TA1307000001</td>\n",
       "      <td>41.925602</td>\n",
       "      <td>-87.653708</td>\n",
       "      <td>41.925330</td>\n",
       "      <td>-87.665800</td>\n",
       "      <td>...</td>\n",
       "      <td>2022-01-25</td>\n",
       "      <td>0 days 04:53:40</td>\n",
       "      <td>2022-01-25</td>\n",
       "      <td>0 days 04:58:01</td>\n",
       "      <td>Tuesday</td>\n",
       "      <td>Tuesday</td>\n",
       "      <td>4.350000</td>\n",
       "      <td>1</td>\n",
       "      <td>January</td>\n",
       "      <td>Jan</td>\n",
       "    </tr>\n",
       "    <tr>\n",
       "      <th>3</th>\n",
       "      <td>CBB80ED419105406</td>\n",
       "      <td>classic_bike</td>\n",
       "      <td>Clark St &amp; Bryn Mawr Ave</td>\n",
       "      <td>KA1504000151</td>\n",
       "      <td>Paulina St &amp; Montrose Ave</td>\n",
       "      <td>TA1309000021</td>\n",
       "      <td>41.983593</td>\n",
       "      <td>-87.669154</td>\n",
       "      <td>41.961507</td>\n",
       "      <td>-87.671387</td>\n",
       "      <td>...</td>\n",
       "      <td>2022-01-04</td>\n",
       "      <td>0 days 00:18:04</td>\n",
       "      <td>2022-01-04</td>\n",
       "      <td>0 days 00:33:00</td>\n",
       "      <td>Tuesday</td>\n",
       "      <td>Tuesday</td>\n",
       "      <td>14.933333</td>\n",
       "      <td>1</td>\n",
       "      <td>January</td>\n",
       "      <td>Jan</td>\n",
       "    </tr>\n",
       "    <tr>\n",
       "      <th>4</th>\n",
       "      <td>DDC963BFDDA51EEA</td>\n",
       "      <td>classic_bike</td>\n",
       "      <td>Michigan Ave &amp; Jackson Blvd</td>\n",
       "      <td>TA1309000002</td>\n",
       "      <td>State St &amp; Randolph St</td>\n",
       "      <td>TA1305000029</td>\n",
       "      <td>41.877850</td>\n",
       "      <td>-87.624080</td>\n",
       "      <td>41.884621</td>\n",
       "      <td>-87.627834</td>\n",
       "      <td>...</td>\n",
       "      <td>2022-01-20</td>\n",
       "      <td>0 days 01:31:10</td>\n",
       "      <td>2022-01-20</td>\n",
       "      <td>0 days 01:37:12</td>\n",
       "      <td>Thursday</td>\n",
       "      <td>Thursday</td>\n",
       "      <td>6.033333</td>\n",
       "      <td>1</td>\n",
       "      <td>January</td>\n",
       "      <td>Jan</td>\n",
       "    </tr>\n",
       "  </tbody>\n",
       "</table>\n",
       "<p>5 rows × 21 columns</p>\n",
       "</div>"
      ],
      "text/plain": [
       "            ride_id  rideable_type             start_station_name  \\\n",
       "0  C2F7DD78E82EC875  electric_bike       Glenwood Ave & Touhy Ave   \n",
       "1  A6CF8980A652D272  electric_bike       Glenwood Ave & Touhy Ave   \n",
       "2  BD0F91DFF741C66D   classic_bike  Sheffield Ave & Fullerton Ave   \n",
       "3  CBB80ED419105406   classic_bike       Clark St & Bryn Mawr Ave   \n",
       "4  DDC963BFDDA51EEA   classic_bike    Michigan Ave & Jackson Blvd   \n",
       "\n",
       "  start_station_id               end_station_name end_station_id  start_lat  \\\n",
       "0              525           Clark St & Touhy Ave         RP-007  42.012800   \n",
       "1              525           Clark St & Touhy Ave         RP-007  42.012763   \n",
       "2     TA1306000016  Greenview Ave & Fullerton Ave   TA1307000001  41.925602   \n",
       "3     KA1504000151      Paulina St & Montrose Ave   TA1309000021  41.983593   \n",
       "4     TA1309000002         State St & Randolph St   TA1305000029  41.877850   \n",
       "\n",
       "   start_lng    end_lat    end_lng  ...  startdate       starttime    enddate  \\\n",
       "0 -87.665906  42.012560 -87.674367  ... 2022-01-13 0 days 11:59:47 2022-01-13   \n",
       "1 -87.665967  42.012560 -87.674367  ... 2022-01-10 0 days 08:41:56 2022-01-10   \n",
       "2 -87.653708  41.925330 -87.665800  ... 2022-01-25 0 days 04:53:40 2022-01-25   \n",
       "3 -87.669154  41.961507 -87.671387  ... 2022-01-04 0 days 00:18:04 2022-01-04   \n",
       "4 -87.624080  41.884621 -87.627834  ... 2022-01-20 0 days 01:31:10 2022-01-20   \n",
       "\n",
       "          endtime  startday    endday   duration  month  month_full month_name  \n",
       "0 0 days 12:02:44  Thursday  Thursday   2.950000      1     January        Jan  \n",
       "1 0 days 08:46:17    Monday    Monday   4.350000      1     January        Jan  \n",
       "2 0 days 04:58:01   Tuesday   Tuesday   4.350000      1     January        Jan  \n",
       "3 0 days 00:33:00   Tuesday   Tuesday  14.933333      1     January        Jan  \n",
       "4 0 days 01:37:12  Thursday  Thursday   6.033333      1     January        Jan  \n",
       "\n",
       "[5 rows x 21 columns]"
      ]
     },
     "execution_count": 73,
     "metadata": {},
     "output_type": "execute_result"
    }
   ],
   "source": [
    "merger['month']=merger['startdate'].dt.month\n",
    "merger['month_name'] = merger['startdate'].dt.month_name().str[:3]\n",
    "merger.head()"
   ]
  },
  {
   "cell_type": "code",
   "execution_count": 74,
   "id": "52316a1d",
   "metadata": {},
   "outputs": [
    {
     "data": {
      "text/plain": [
       "Jul    794349\n",
       "Aug    757025\n",
       "Jun    740529\n",
       "Sep    673877\n",
       "May    609064\n",
       "Oct    535427\n",
       "Apr    354490\n",
       "Nov    322280\n",
       "Mar    270665\n",
       "Feb    109798\n",
       "Jan     98517\n",
       "Name: month_name, dtype: int64"
      ]
     },
     "execution_count": 74,
     "metadata": {},
     "output_type": "execute_result"
    }
   ],
   "source": [
    "merger['month_name'].value_counts()"
   ]
  },
  {
   "cell_type": "code",
   "execution_count": 76,
   "id": "bc3dcddb",
   "metadata": {},
   "outputs": [
    {
     "data": {
      "image/png": "[encoded data removed]",
      "text/plain": [
       "<Figure size 640x480 with 1 Axes>"
      ]
     },
     "metadata": {},
     "output_type": "display_data"
    }
   ],
   "source": [
    "(merger['month_name'].value_counts()/1000).plot(kind='bar',color='blue');\n",
    "plt.title('Fig. 5: No. of Rides per month');\n",
    "plt.xlabel('Months');\n",
    "plt.ylabel('No of rides in thousands');"
   ]
  },
  {
   "cell_type": "markdown",
   "id": "0be5b250",
   "metadata": {},
   "source": [
    "#### Function to manually have pattern for each month"
   ]
  },
  {
   "cell_type": "code",
   "execution_count": 77,
   "id": "9cf7ebde",
   "metadata": {
    "scrolled": true
   },
   "outputs": [
    {
     "name": "stdout",
     "output_type": "stream",
     "text": [
      "enter month4\n"
     ]
    },
    {
     "data": {
      "text/plain": [
       "(14.861931366188093,\n",
       " member    234332\n",
       " casual    120158\n",
       " Name: member_casual, dtype: int64,\n",
       " electric_bike    183987\n",
       " classic_bike     159166\n",
       " docked_bike       11337\n",
       " Name: rideable_type, dtype: int64)"
      ]
     },
     "execution_count": 77,
     "metadata": {},
     "output_type": "execute_result"
    }
   ],
   "source": [
    "def month_mean(month):\n",
    "    month_mean=merger.loc[merger['month']==month]\n",
    "    month_mean_duration=month_mean['duration'].mean()\n",
    "    rider_types=month_mean['member_casual'].value_counts()\n",
    "    bike_type=month_mean['rideable_type'].value_counts()\n",
    "    return month_mean_duration,rider_types,bike_type\n",
    "month_entry=int(input('enter month'))\n",
    "month_mean(month_entry)"
   ]
  },
  {
   "cell_type": "markdown",
   "id": "855f194a",
   "metadata": {},
   "source": [
    "### Relation between weekdays and member type for weekdays:"
   ]
  },
  {
   "cell_type": "code",
   "execution_count": 84,
   "id": "1621ee75",
   "metadata": {},
   "outputs": [
    {
     "data": {
      "image/png": "[encoded data removed]",
      "text/plain": [
       "<Figure size 1400x1000 with 1 Axes>"
      ]
     },
     "metadata": {},
     "output_type": "display_data"
    }
   ],
   "source": [
    "plt.figure(figsize=(14,10))\n",
    "sns.countplot(x='startday', hue='member_casual', data=merger, palette='Set1')\n",
    "plt.tight_layout()\n",
    "plt.xlabel('WeekDays');\n",
    "plt.ylabel('Number of Rides');\n",
    "plt.title('Fig. 6: Customers pattern during weekdays');"
   ]
  },
  {
   "cell_type": "markdown",
   "id": "8b3c5b09",
   "metadata": {},
   "source": [
    "### Relation between weekdays and member type for months:"
   ]
  },
  {
   "cell_type": "code",
   "execution_count": 85,
   "id": "401db5a8",
   "metadata": {},
   "outputs": [
    {
     "data": {
      "image/png": "[encoded data removed]",
      "text/plain": [
       "<Figure size 1400x1000 with 1 Axes>"
      ]
     },
     "metadata": {},
     "output_type": "display_data"
    }
   ],
   "source": [
    "plt.figure(figsize=(14,10))\n",
    "sns.countplot(x='month_name', hue='member_casual', data=merger, palette='Set1')\n",
    "plt.tight_layout()\n",
    "plt.xlabel('Months');\n",
    "plt.ylabel('Number of Rides');\n",
    "plt.title('Fig. 7: Customers pattern during months');"
   ]
  },
  {
   "cell_type": "markdown",
   "id": "313154ec",
   "metadata": {},
   "source": [
    "### Relation between weekdays and bike type for weekdays:"
   ]
  },
  {
   "cell_type": "code",
   "execution_count": 87,
   "id": "e93c5ea9",
   "metadata": {},
   "outputs": [
    {
     "data": {
      "image/png": "[encoded data removed]",
      "text/plain": [
       "<Figure size 1400x1000 with 1 Axes>"
      ]
     },
     "metadata": {},
     "output_type": "display_data"
    }
   ],
   "source": [
    "plt.figure(figsize=(14,10))\n",
    "sns.countplot(x='startday', hue='rideable_type', data=merger, palette='Set1')\n",
    "plt.tight_layout()\n",
    "plt.xlabel('Weekday');\n",
    "plt.ylabel('Number of Rides');\n",
    "plt.title('Fig. 8: Customers pattern during months');"
   ]
  },
  {
   "cell_type": "markdown",
   "id": "b677c8b6",
   "metadata": {},
   "source": [
    "### Relation between weekdays and bike type for months:"
   ]
  },
  {
   "cell_type": "code",
   "execution_count": 88,
   "id": "acb65feb",
   "metadata": {},
   "outputs": [
    {
     "data": {
      "image/png": "[encoded data removed]",
      "text/plain": [
       "<Figure size 1400x1000 with 1 Axes>"
      ]
     },
     "metadata": {},
     "output_type": "display_data"
    }
   ],
   "source": [
    "plt.figure(figsize=(14,10))\n",
    "sns.countplot(x='month_name', hue='rideable_type', data=merger, palette='Set1')\n",
    "plt.tight_layout()\n",
    "plt.xlabel('Months');\n",
    "plt.ylabel('Number of Rides');\n",
    "plt.title('Fig. 9: Customers pattern during months');"
   ]
  },
  {
   "cell_type": "markdown",
   "id": "61fff48f",
   "metadata": {},
   "source": [
    "## Findings:"
   ]
  },
  {
   "cell_type": "markdown",
   "id": "318b0487",
   "metadata": {},
   "source": [
    "From the analysis performed it shows some patterns that is obviously noticed:\n",
    "1. Maximum duration time and data shows our service in bike sharing can be used all day not for a specific trip.\n",
    "2. Minimum duration time and data shows that some customers tend to leave the bike once they have it.\n",
    "3. Most preferred bike type is electric then usual bike. While docked type has only 3.1% of total market.\n",
    "4. Casual members have more attribution than subscribed members.\n",
    "5. Saturday is the most used day.\n",
    "6. Summer is most preferable season in our business and for our customers as well."
   ]
  },
  {
   "cell_type": "markdown",
   "id": "b4cb19d5",
   "metadata": {},
   "source": [
    "## Conclusion:"
   ]
  },
  {
   "cell_type": "markdown",
   "id": "94f99216",
   "metadata": {},
   "source": [
    "Our next campaign can look deeper and enchance based on the following ideas:\n",
    "1. Take in consideration full day rental service supported by current global direction to minimize emissions.\n",
    "2. Best campaign is set to launch in May as summer months are our top months.\n",
    "3. Invest more in electric bikes as it seems that everyone loving it based on the data above.\n",
    "4. Try to close the docked bikes branch as it doesn't have impact on total rides in both months and weekdays.\n"
   ]
  },
  {
   "cell_type": "markdown",
   "id": "8bc986ca",
   "metadata": {},
   "source": []
  },
  {
   "cell_type": "markdown",
   "id": "9ad82fb8",
   "metadata": {},
   "source": []
  },
  {
   "cell_type": "markdown",
   "id": "d58654f3",
   "metadata": {},
   "source": []
  }
 ],
 "metadata": {
  "kernelspec": {
   "display_name": "Python 3 (ipykernel)",
   "language": "python",
   "name": "python3"
  },
  "language_info": {
   "codemirror_mode": {
    "name": "ipython",
    "version": 3
   },
   "file_extension": ".py",
   "mimetype": "text/x-python",
   "name": "python",
   "nbconvert_exporter": "python",
   "pygments_lexer": "ipython3",
   "version": "3.9.13"
  }
 },
 "nbformat": 4,
 "nbformat_minor": 5
}
